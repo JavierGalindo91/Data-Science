{
 "cells": [
  {
   "cell_type": "code",
   "execution_count": 1,
   "metadata": {
    "collapsed": false
   },
   "outputs": [
    {
     "data": {
      "text/html": [
       "<div>\n",
       "<table border=\"1\" class=\"dataframe\">\n",
       "  <thead>\n",
       "    <tr style=\"text-align: right;\">\n",
       "      <th></th>\n",
       "      <th>Unnamed: 0</th>\n",
       "      <th>Position</th>\n",
       "      <th>Teams</th>\n",
       "      <th>Games Played</th>\n",
       "      <th>Wins</th>\n",
       "      <th>Lost</th>\n",
       "      <th>Draw</th>\n",
       "      <th>GF</th>\n",
       "      <th>GA</th>\n",
       "      <th>Points</th>\n",
       "      <th>Yellow Cards</th>\n",
       "      <th>Red Cards</th>\n",
       "    </tr>\n",
       "  </thead>\n",
       "  <tbody>\n",
       "    <tr>\n",
       "      <th>0</th>\n",
       "      <td>0</td>\n",
       "      <td>1</td>\n",
       "      <td>Manchester United</td>\n",
       "      <td>42</td>\n",
       "      <td>24</td>\n",
       "      <td>6</td>\n",
       "      <td>12</td>\n",
       "      <td>67</td>\n",
       "      <td>31</td>\n",
       "      <td>84</td>\n",
       "      <td>32</td>\n",
       "      <td>0</td>\n",
       "    </tr>\n",
       "    <tr>\n",
       "      <th>1</th>\n",
       "      <td>1</td>\n",
       "      <td>2</td>\n",
       "      <td>Aston Villa</td>\n",
       "      <td>42</td>\n",
       "      <td>21</td>\n",
       "      <td>10</td>\n",
       "      <td>11</td>\n",
       "      <td>57</td>\n",
       "      <td>40</td>\n",
       "      <td>74</td>\n",
       "      <td>23</td>\n",
       "      <td>0</td>\n",
       "    </tr>\n",
       "    <tr>\n",
       "      <th>2</th>\n",
       "      <td>2</td>\n",
       "      <td>3</td>\n",
       "      <td>Norwich</td>\n",
       "      <td>42</td>\n",
       "      <td>21</td>\n",
       "      <td>12</td>\n",
       "      <td>9</td>\n",
       "      <td>61</td>\n",
       "      <td>65</td>\n",
       "      <td>72</td>\n",
       "      <td>22</td>\n",
       "      <td>0</td>\n",
       "    </tr>\n",
       "    <tr>\n",
       "      <th>3</th>\n",
       "      <td>3</td>\n",
       "      <td>4</td>\n",
       "      <td>Blackburn Rovers</td>\n",
       "      <td>42</td>\n",
       "      <td>20</td>\n",
       "      <td>11</td>\n",
       "      <td>11</td>\n",
       "      <td>68</td>\n",
       "      <td>46</td>\n",
       "      <td>71</td>\n",
       "      <td>37</td>\n",
       "      <td>3</td>\n",
       "    </tr>\n",
       "    <tr>\n",
       "      <th>4</th>\n",
       "      <td>4</td>\n",
       "      <td>5</td>\n",
       "      <td>Queens Park Rangers</td>\n",
       "      <td>42</td>\n",
       "      <td>17</td>\n",
       "      <td>13</td>\n",
       "      <td>12</td>\n",
       "      <td>63</td>\n",
       "      <td>55</td>\n",
       "      <td>63</td>\n",
       "      <td>36</td>\n",
       "      <td>0</td>\n",
       "    </tr>\n",
       "  </tbody>\n",
       "</table>\n",
       "</div>"
      ],
      "text/plain": [
       "   Unnamed: 0  Position                Teams  Games Played  Wins  Lost  Draw  \\\n",
       "0           0         1    Manchester United            42    24     6    12   \n",
       "1           1         2          Aston Villa            42    21    10    11   \n",
       "2           2         3              Norwich            42    21    12     9   \n",
       "3           3         4     Blackburn Rovers            42    20    11    11   \n",
       "4           4         5  Queens Park Rangers            42    17    13    12   \n",
       "\n",
       "   GF  GA  Points  Yellow Cards  Red Cards  \n",
       "0  67  31      84            32          0  \n",
       "1  57  40      74            23          0  \n",
       "2  61  65      72            22          0  \n",
       "3  68  46      71            37          3  \n",
       "4  63  55      63            36          0  "
      ]
     },
     "execution_count": 1,
     "metadata": {},
     "output_type": "execute_result"
    }
   ],
   "source": [
    "get_ipython().magic(u'matplotlib inline')\n",
    "import csv\n",
    "import pandas as pd\n",
    "import matplotlib.pyplot as plt\n",
    "\n",
    "\n",
    "data = pd.read_csv(\"C:\\Users\\Javi\\Desktop\\Coursera\\Python\\\\frame1.csv\")\n",
    "data.head()\n"
   ]
  },
  {
   "cell_type": "code",
   "execution_count": null,
   "metadata": {
    "collapsed": false
   },
   "outputs": [],
   "source": []
  },
  {
   "cell_type": "code",
   "execution_count": 2,
   "metadata": {
    "collapsed": false
   },
   "outputs": [],
   "source": [
    "teamDict = {}\n",
    "\n",
    "for i in range(len(data.Position)):\n",
    "    teamDict[i] = [[data.Wins[i].astype('int'), data.GF[i].astype('int'), data.Points[i].astype('int')],\n",
    "                   [data.Position[i].astype('int'), str(data.Teams[i])]]\n",
    "    \n"
   ]
  },
  {
   "cell_type": "code",
   "execution_count": 3,
   "metadata": {
    "collapsed": false
   },
   "outputs": [
    {
     "data": {
      "text/plain": [
       "{0: [[24, 67, 84], [1, 'Manchester United']],\n",
       " 1: [[21, 57, 74], [2, 'Aston Villa']],\n",
       " 2: [[21, 61, 72], [3, 'Norwich']],\n",
       " 3: [[20, 68, 71], [4, 'Blackburn Rovers']],\n",
       " 4: [[17, 63, 63], [5, 'Queens Park Rangers']],\n",
       " 5: [[16, 62, 59], [6, 'Liverpool']],\n",
       " 6: [[15, 55, 59], [7, 'Sheffield Wednesday']],\n",
       " 7: [[16, 60, 59], [8, 'Tottenham']],\n",
       " 8: [[15, 56, 57], [9, 'Manchester City']],\n",
       " 9: [[15, 40, 56], [10, 'Arsenal']],\n",
       " 10: [[14, 51, 56], [11, 'Chelsea']],\n",
       " 11: [[14, 56, 54], [12, 'Wimbledon']],\n",
       " 12: [[15, 53, 53], [13, 'Everton']],\n",
       " 13: [[14, 54, 52], [14, 'Sheffield']],\n",
       " 14: [[13, 52, 52], [15, 'Coventry']],\n",
       " 15: [[12, 50, 52], [16, 'Ipswich Town']],\n",
       " 16: [[12, 57, 51], [17, 'Leeds']],\n",
       " 17: [[13, 54, 50], [18, 'Southampton']],\n",
       " 18: [[13, 63, 49], [19, 'Oldham']],\n",
       " 19: [[11, 48, 49], [20, 'Crystal Palace']],\n",
       " 20: [[11, 54, 44], [21, 'Middlesbrough']],\n",
       " 21: [[10, 41, 40], [22, 'Nottingham Forest']],\n",
       " 22: [[27, 80, 92], [1, 'Manchester United']],\n",
       " 23: [[25, 63, 84], [2, 'Blackburn Rovers']],\n",
       " 24: [[23, 82, 77], [3, 'Newcastle']],\n",
       " 25: [[18, 53, 71], [4, 'Arsenal']],\n",
       " 26: [[18, 65, 70], [5, 'Leeds']],\n",
       " 27: [[18, 56, 65], [6, 'Wimbledon']],\n",
       " 28: [[16, 76, 64], [7, 'Sheffield Wednesday']],\n",
       " 29: [[17, 59, 60], [8, 'Liverpool']],\n",
       " 30: [[16, 62, 60], [9, 'Queens Park Rangers']],\n",
       " 31: [[15, 46, 57], [10, 'Aston Villa']],\n",
       " 32: [[14, 43, 56], [11, 'Coventry']],\n",
       " 33: [[12, 65, 53], [12, 'Norwich']],\n",
       " 34: [[13, 47, 52], [13, 'West Ham']],\n",
       " 35: [[13, 49, 51], [14, 'Chelsea']],\n",
       " 36: [[11, 54, 45], [15, 'Tottenham']],\n",
       " 37: [[9, 38, 45], [16, 'Manchester City']],\n",
       " 38: [[12, 42, 44], [17, 'Everton']],\n",
       " 39: [[12, 49, 43], [18, 'Southampton']],\n",
       " 40: [[9, 35, 43], [19, 'Ipswich Town']],\n",
       " 41: [[8, 42, 42], [20, 'Sheffield']],\n",
       " 42: [[9, 42, 40], [21, 'Oldham']],\n",
       " 43: [[5, 47, 30], [22, 'Swindon']],\n",
       " 44: [[27, 80, 89], [1, 'Blackburn Rovers']],\n",
       " 45: [[26, 77, 88], [2, 'Manchester United']],\n",
       " 46: [[22, 72, 77], [3, 'Nottingham Forest']],\n",
       " 47: [[21, 65, 74], [4, 'Liverpool']],\n",
       " 48: [[20, 59, 73], [5, 'Leeds']],\n",
       " 49: [[20, 67, 72], [6, 'Newcastle']],\n",
       " 50: [[16, 66, 62], [7, 'Tottenham']],\n",
       " 51: [[17, 61, 60], [8, 'Queens Park Rangers']],\n",
       " 52: [[15, 48, 56], [9, 'Wimbledon']],\n",
       " 53: [[12, 61, 54], [10, 'Southampton']],\n",
       " 54: [[13, 50, 54], [11, 'Chelsea']],\n",
       " 55: [[13, 52, 51], [12, 'Arsenal']],\n",
       " 56: [[13, 49, 51], [13, 'Sheffield Wednesday']],\n",
       " 57: [[13, 44, 50], [14, 'West Ham']],\n",
       " 58: [[11, 44, 50], [15, 'Everton']],\n",
       " 59: [[12, 44, 50], [16, 'Coventry']],\n",
       " 60: [[12, 53, 49], [17, 'Manchester City']],\n",
       " 61: [[11, 51, 48], [18, 'Aston Villa']],\n",
       " 62: [[11, 34, 45], [19, 'Crystal Palace']],\n",
       " 63: [[10, 37, 43], [20, 'Norwich']],\n",
       " 64: [[6, 45, 29], [21, 'Leicester']],\n",
       " 65: [[7, 36, 27], [22, 'Ipswich Town']],\n",
       " 66: [[25, 73, 82], [1, 'Manchester United']],\n",
       " 67: [[24, 66, 78], [2, 'Newcastle']],\n",
       " 68: [[20, 70, 71], [3, 'Liverpool']],\n",
       " 69: [[18, 52, 63], [4, 'Aston Villa']],\n",
       " 70: [[17, 49, 63], [5, 'Arsenal']],\n",
       " 71: [[17, 64, 61], [6, 'Everton']],\n",
       " 72: [[18, 61, 61], [7, 'Blackburn Rovers']],\n",
       " 73: [[16, 50, 61], [8, 'Tottenham']],\n",
       " 74: [[15, 50, 58], [9, 'Nottingham Forest']],\n",
       " 75: [[14, 43, 51], [10, 'West Ham']],\n",
       " 76: [[12, 46, 50], [11, 'Chelsea']],\n",
       " 77: [[11, 35, 43], [12, 'Middlesbrough']],\n",
       " 78: [[12, 40, 43], [13, 'Leeds']],\n",
       " 79: [[10, 55, 41], [14, 'Wimbledon']],\n",
       " 80: [[10, 48, 40], [15, 'Sheffield Wednesday']],\n",
       " 81: [[8, 42, 38], [16, 'Coventry']],\n",
       " 82: [[9, 34, 38], [17, 'Southampton']],\n",
       " 83: [[9, 33, 38], [18, 'Manchester City']],\n",
       " 84: [[9, 38, 33], [19, 'Queens Park Rangers']],\n",
       " 85: [[8, 39, 29], [20, 'Bolton Wanderers']],\n",
       " 86: [[21, 76, 75], [1, 'Manchester United']],\n",
       " 87: [[19, 73, 68], [2, 'Newcastle']],\n",
       " 88: [[19, 62, 68], [3, 'Arsenal']],\n",
       " 89: [[19, 62, 68], [4, 'Liverpool']],\n",
       " 90: [[17, 47, 61], [5, 'Aston Villa']],\n",
       " 91: [[16, 58, 59], [6, 'Chelsea']],\n",
       " 92: [[14, 50, 57], [7, 'Sheffield Wednesday']],\n",
       " 93: [[15, 49, 56], [8, 'Wimbledon']],\n",
       " 94: [[12, 46, 47], [9, 'Leicester']],\n",
       " 95: [[13, 44, 46], [10, 'Tottenham']],\n",
       " 96: [[11, 28, 46], [11, 'Leeds']],\n",
       " 97: [[11, 45, 46], [12, 'Derby County']],\n",
       " 98: [[9, 42, 42], [13, 'Blackburn Rovers']],\n",
       " 99: [[10, 39, 42], [14, 'West Ham']],\n",
       " 100: [[10, 44, 42], [15, 'Everton']],\n",
       " 101: [[10, 50, 41], [16, 'Southampton']],\n",
       " 102: [[9, 38, 41], [17, 'Coventry']],\n",
       " 103: [[10, 35, 40], [18, 'Sunderland']],\n",
       " 104: [[10, 51, 39], [19, 'Middlesbrough']],\n",
       " 105: [[6, 31, 34], [20, 'Nottingham Forest']],\n",
       " 106: [[23, 68, 78], [1, 'Arsenal']],\n",
       " 107: [[23, 73, 77], [2, 'Manchester United']],\n",
       " 108: [[18, 68, 65], [3, 'Liverpool']],\n",
       " 109: [[20, 71, 63], [4, 'Chelsea']],\n",
       " 110: [[17, 57, 59], [5, 'Leeds']],\n",
       " 111: [[16, 57, 58], [6, 'Blackburn Rovers']],\n",
       " 112: [[17, 49, 57], [7, 'Aston Villa']],\n",
       " 113: [[16, 56, 56], [8, 'West Ham']],\n",
       " 114: [[16, 52, 55], [9, 'Derby County']],\n",
       " 115: [[13, 51, 53], [10, 'Leicester']],\n",
       " 116: [[12, 46, 52], [11, 'Coventry']],\n",
       " 117: [[14, 50, 48], [12, 'Southampton']],\n",
       " 118: [[11, 35, 44], [13, 'Newcastle']],\n",
       " 119: [[11, 44, 44], [14, 'Tottenham']],\n",
       " 120: [[10, 34, 44], [15, 'Wimbledon']],\n",
       " 121: [[12, 52, 44], [16, 'Sheffield Wednesday']],\n",
       " 122: [[9, 41, 40], [17, 'Everton']],\n",
       " 123: [[9, 41, 40], [18, 'Bolton Wanderers']],\n",
       " 124: [[10, 37, 35], [19, 'Barnsley']],\n",
       " 125: [[8, 37, 33], [20, 'Crystal Palace']],\n",
       " 126: [[22, 80, 79], [1, 'Manchester United']],\n",
       " 127: [[22, 59, 78], [2, 'Arsenal']],\n",
       " 128: [[20, 57, 75], [3, 'Chelsea']],\n",
       " 129: [[18, 62, 67], [4, 'Leeds']],\n",
       " 130: [[16, 46, 57], [5, 'West Ham']],\n",
       " 131: [[15, 51, 55], [6, 'Aston Villa']],\n",
       " 132: [[15, 68, 54], [7, 'Liverpool']],\n",
       " 133: [[13, 40, 52], [8, 'Derby County']],\n",
       " 134: [[12, 48, 51], [9, 'Middlesbrough']],\n",
       " 135: [[12, 40, 49], [10, 'Leicester']],\n",
       " 136: [[11, 47, 47], [11, 'Tottenham']],\n",
       " 137: [[13, 41, 46], [12, 'Sheffield Wednesday']],\n",
       " 138: [[11, 48, 46], [13, 'Newcastle']],\n",
       " 139: [[11, 42, 43], [14, 'Everton']],\n",
       " 140: [[11, 39, 42], [15, 'Coventry']],\n",
       " 141: [[10, 40, 42], [16, 'Wimbledon']],\n",
       " 142: [[11, 37, 41], [17, 'Southampton']],\n",
       " 143: [[8, 41, 36], [18, 'Charlton Athletic']],\n",
       " 144: [[7, 38, 35], [19, 'Blackburn Rovers']],\n",
       " 145: [[7, 35, 30], [20, 'Nottingham Forest']],\n",
       " 146: [[28, 97, 91], [1, 'Manchester United']],\n",
       " 147: [[22, 73, 73], [2, 'Arsenal']],\n",
       " 148: [[21, 58, 69], [3, 'Leeds']],\n",
       " 149: [[19, 51, 67], [4, 'Liverpool']],\n",
       " 150: [[18, 53, 65], [5, 'Chelsea']],\n",
       " 151: [[15, 46, 58], [6, 'Aston Villa']],\n",
       " 152: [[16, 57, 58], [7, 'Sunderland']],\n",
       " 153: [[16, 55, 55], [8, 'Leicester']],\n",
       " 154: [[15, 52, 55], [9, 'West Ham']],\n",
       " 155: [[15, 57, 53], [10, 'Tottenham']],\n",
       " 156: [[14, 63, 52], [11, 'Newcastle']],\n",
       " 157: [[14, 46, 52], [12, 'Middlesbrough']],\n",
       " 158: [[12, 59, 50], [13, 'Everton']],\n",
       " 159: [[12, 47, 44], [14, 'Coventry']],\n",
       " 160: [[12, 45, 44], [15, 'Southampton']],\n",
       " 161: [[9, 44, 38], [16, 'Derby County']],\n",
       " 162: [[9, 38, 36], [17, 'Bradford']],\n",
       " 163: [[7, 46, 33], [18, 'Wimbledon']],\n",
       " 164: [[8, 38, 31], [19, 'Sheffield Wednesday']],\n",
       " 165: [[6, 35, 24], [20, 'Watford']],\n",
       " 166: [[24, 79, 80], [1, 'Manchester United']],\n",
       " 167: [[20, 63, 70], [2, 'Arsenal']],\n",
       " 168: [[20, 71, 69], [3, 'Liverpool']],\n",
       " 169: [[20, 64, 68], [4, 'Leeds']],\n",
       " 170: [[20, 57, 66], [5, 'Ipswich Town']],\n",
       " 171: [[17, 68, 61], [6, 'Chelsea']],\n",
       " 172: [[15, 46, 57], [7, 'Sunderland']],\n",
       " 173: [[13, 46, 54], [8, 'Aston Villa']],\n",
       " 174: [[14, 50, 52], [9, 'Charlton Athletic']],\n",
       " 175: [[14, 40, 52], [10, 'Southampton']],\n",
       " 176: [[14, 44, 51], [11, 'Newcastle']],\n",
       " 177: [[13, 47, 49], [12, 'Tottenham']],\n",
       " 178: [[14, 39, 48], [13, 'Leicester']],\n",
       " 179: [[9, 44, 42], [14, 'Middlesbrough']],\n",
       " 180: [[10, 45, 42], [15, 'West Ham']],\n",
       " 181: [[11, 45, 42], [16, 'Everton']],\n",
       " 182: [[10, 37, 42], [17, 'Derby County']],\n",
       " 183: [[8, 41, 34], [18, 'Manchester City']],\n",
       " 184: [[8, 36, 34], [19, 'Coventry']],\n",
       " 185: [[5, 30, 26], [20, 'Bradford']],\n",
       " 186: [[26, 79, 87], [1, 'Arsenal']],\n",
       " 187: [[24, 67, 80], [2, 'Liverpool']],\n",
       " 188: [[24, 87, 77], [3, 'Manchester United']],\n",
       " 189: [[21, 74, 71], [4, 'Newcastle']],\n",
       " 190: [[18, 53, 66], [5, 'Leeds']],\n",
       " 191: [[17, 66, 64], [6, 'Chelsea']],\n",
       " 192: [[15, 48, 53], [7, 'West Ham']],\n",
       " 193: [[12, 46, 50], [8, 'Aston Villa']],\n",
       " 194: [[14, 49, 50], [9, 'Tottenham']],\n",
       " 195: [[12, 55, 46], [10, 'Blackburn Rovers']],\n",
       " 196: [[12, 46, 45], [11, 'Southampton']],\n",
       " 197: [[12, 35, 45], [12, 'Middlesbrough']],\n",
       " 198: [[10, 36, 44], [13, 'Fulham']],\n",
       " 199: [[10, 38, 44], [14, 'Charlton Athletic']],\n",
       " 200: [[11, 45, 43], [15, 'Everton']],\n",
       " 201: [[9, 44, 40], [16, 'Bolton Wanderers']],\n",
       " 202: [[10, 29, 40], [17, 'Sunderland']],\n",
       " 203: [[9, 41, 36], [18, 'Ipswich Town']],\n",
       " 204: [[8, 33, 30], [19, 'Derby County']],\n",
       " 205: [[5, 30, 28], [20, 'Leicester']],\n",
       " 206: [[25, 74, 83], [1, 'Manchester United']],\n",
       " 207: [[23, 85, 78], [2, 'Arsenal']],\n",
       " 208: [[21, 63, 69], [3, 'Newcastle']],\n",
       " 209: [[19, 68, 67], [4, 'Chelsea']],\n",
       " 210: [[18, 61, 64], [5, 'Liverpool']],\n",
       " 211: [[16, 52, 60], [6, 'Blackburn Rovers']],\n",
       " 212: [[17, 48, 59], [7, 'Everton']],\n",
       " 213: [[13, 43, 52], [8, 'Southampton']],\n",
       " 214: [[15, 47, 51], [9, 'Manchester City']],\n",
       " 215: [[14, 51, 50], [10, 'Tottenham']],\n",
       " 216: [[13, 48, 49], [11, 'Middlesbrough']],\n",
       " 217: [[14, 45, 49], [12, 'Charlton Athletic']],\n",
       " 218: [[13, 41, 48], [13, 'Birmingham']],\n",
       " 219: [[13, 41, 48], [14, 'Fulham']],\n",
       " 220: [[14, 58, 47], [15, 'Leeds']],\n",
       " 221: [[12, 42, 45], [16, 'Aston Villa']],\n",
       " 222: [[10, 41, 44], [17, 'Bolton Wanderers']],\n",
       " 223: [[10, 42, 42], [18, 'West Ham']],\n",
       " 224: [[6, 29, 26], [19, 'West Bromwich']],\n",
       " 225: [[4, 21, 19], [20, 'Sunderland']],\n",
       " 226: [[26, 73, 90], [1, 'Arsenal']],\n",
       " 227: [[24, 67, 79], [2, 'Chelsea']],\n",
       " 228: [[23, 64, 75], [3, 'Manchester United']],\n",
       " 229: [[16, 55, 60], [4, 'Liverpool']],\n",
       " 230: [[13, 52, 56], [5, 'Newcastle']],\n",
       " 231: [[15, 48, 56], [6, 'Aston Villa']],\n",
       " 232: [[14, 51, 53], [7, 'Charlton Athletic']],\n",
       " 233: [[14, 48, 53], [8, 'Bolton Wanderers']],\n",
       " 234: [[14, 52, 52], [9, 'Fulham']],\n",
       " 235: [[12, 43, 50], [10, 'Birmingham']],\n",
       " 236: [[13, 44, 48], [11, 'Middlesbrough']],\n",
       " 237: [[12, 44, 47], [12, 'Southampton']],\n",
       " 238: [[12, 47, 45], [13, 'Portsmouth']],\n",
       " 239: [[13, 47, 45], [14, 'Tottenham']],\n",
       " 240: [[12, 51, 44], [15, 'Blackburn Rovers']],\n",
       " 241: [[9, 55, 41], [16, 'Manchester City']],\n",
       " 242: [[9, 45, 39], [17, 'Everton']],\n",
       " 243: [[6, 48, 33], [18, 'Leicester']],\n",
       " 244: [[8, 40, 33], [19, 'Leeds']],\n",
       " 245: [[7, 38, 33], [20, 'Wolverhampton']],\n",
       " 246: [[29, 72, 95], [1, 'Chelsea']],\n",
       " 247: [[25, 87, 83], [2, 'Arsenal']],\n",
       " 248: [[22, 58, 77], [3, 'Manchester United']],\n",
       " 249: [[18, 45, 61], [4, 'Everton']],\n",
       " 250: [[17, 52, 58], [5, 'Liverpool']],\n",
       " 251: [[16, 49, 58], [6, 'Bolton Wanderers']],\n",
       " 252: [[14, 53, 55], [7, 'Middlesbrough']],\n",
       " 253: [[13, 47, 52], [8, 'Manchester City']],\n",
       " 254: [[14, 47, 52], [9, 'Tottenham']],\n",
       " 255: [[12, 45, 47], [10, 'Aston Villa']],\n",
       " 256: [[12, 42, 46], [11, 'Charlton Athletic']],\n",
       " 257: [[11, 40, 45], [12, 'Birmingham']],\n",
       " 258: [[12, 52, 44], [13, 'Fulham']],\n",
       " 259: [[10, 47, 44], [14, 'Newcastle']],\n",
       " 260: [[9, 32, 42], [15, 'Blackburn Rovers']],\n",
       " 261: [[10, 43, 39], [16, 'Portsmouth']],\n",
       " 262: [[6, 36, 34], [17, 'West Bromwich']],\n",
       " 263: [[7, 41, 33], [18, 'Crystal Palace']],\n",
       " 264: [[7, 42, 33], [19, 'Norwich']],\n",
       " 265: [[6, 45, 32], [20, 'Southampton']],\n",
       " 266: [[29, 72, 91], [1, 'Chelsea']],\n",
       " 267: [[25, 72, 83], [2, 'Manchester United']],\n",
       " 268: [[25, 57, 82], [3, 'Liverpool']],\n",
       " 269: [[20, 68, 67], [4, 'Arsenal']],\n",
       " 270: [[18, 53, 65], [5, 'Tottenham']],\n",
       " 271: [[19, 51, 63], [6, 'Blackburn Rovers']],\n",
       " 272: [[17, 47, 58], [7, 'Newcastle']],\n",
       " 273: [[15, 49, 56], [8, 'Bolton Wanderers']],\n",
       " 274: [[16, 52, 55], [9, 'West Ham']],\n",
       " 275: [[15, 45, 51], [10, 'Wigan']],\n",
       " 276: [[14, 34, 50], [11, 'Everton']],\n",
       " 277: [[14, 48, 48], [12, 'Fulham']],\n",
       " 278: [[13, 41, 47], [13, 'Charlton Athletic']],\n",
       " 279: [[12, 48, 45], [14, 'Middlesbrough']],\n",
       " 280: [[13, 43, 43], [15, 'Manchester City']],\n",
       " 281: [[10, 42, 42], [16, 'Aston Villa']],\n",
       " 282: [[10, 37, 38], [17, 'Portsmouth']],\n",
       " 283: [[8, 28, 34], [18, 'Birmingham']],\n",
       " 284: [[7, 31, 30], [19, 'West Bromwich']],\n",
       " 285: [[3, 26, 15], [20, 'Sunderland']],\n",
       " 286: [[28, 83, 89], [1, 'Manchester United']],\n",
       " 287: [[24, 64, 83], [2, 'Chelsea']],\n",
       " 288: [[20, 57, 68], [3, 'Liverpool']],\n",
       " 289: [[19, 63, 68], [4, 'Arsenal']],\n",
       " 290: [[17, 57, 60], [5, 'Tottenham']],\n",
       " 291: [[15, 52, 58], [6, 'Everton']],\n",
       " 292: [[16, 47, 56], [7, 'Bolton Wanderers']],\n",
       " 293: [[16, 52, 55], [8, 'Reading']],\n",
       " 294: [[14, 45, 54], [9, 'Portsmouth']],\n",
       " 295: [[15, 52, 52], [10, 'Blackburn Rovers']],\n",
       " 296: [[11, 43, 50], [11, 'Aston Villa']],\n",
       " 297: [[12, 44, 46], [12, 'Middlesbrough']],\n",
       " 298: [[11, 38, 43], [13, 'Newcastle']],\n",
       " 299: [[11, 29, 42], [14, 'Manchester City']],\n",
       " 300: [[12, 35, 41], [15, 'West Ham']],\n",
       " 301: [[8, 38, 39], [16, 'Fulham']],\n",
       " 302: [[10, 37, 38], [17, 'Wigan']],\n",
       " 303: [[10, 32, 38], [18, 'Sheffield']],\n",
       " 304: [[8, 34, 34], [19, 'Charlton Athletic']],\n",
       " 305: [[5, 29, 28], [20, 'Watford']],\n",
       " 306: [[27, 80, 87], [1, 'Manchester United']],\n",
       " 307: [[25, 65, 85], [2, 'Chelsea']],\n",
       " 308: [[24, 74, 83], [3, 'Arsenal']],\n",
       " 309: [[21, 67, 76], [4, 'Liverpool']],\n",
       " 310: [[19, 55, 65], [5, 'Everton']],\n",
       " 311: [[16, 71, 60], [6, 'Aston Villa']],\n",
       " 312: [[15, 50, 58], [7, 'Blackburn Rovers']],\n",
       " 313: [[16, 48, 57], [8, 'Portsmouth']],\n",
       " 314: [[15, 45, 55], [9, 'Manchester City']],\n",
       " 315: [[13, 42, 49], [10, 'West Ham']],\n",
       " 316: [[11, 66, 46], [11, 'Tottenham']],\n",
       " 317: [[11, 45, 43], [12, 'Newcastle']],\n",
       " 318: [[10, 43, 42], [13, 'Middlesbrough']],\n",
       " 319: [[10, 34, 40], [14, 'Wigan']],\n",
       " 320: [[11, 36, 39], [15, 'Sunderland']],\n",
       " 321: [[9, 36, 37], [16, 'Bolton Wanderers']],\n",
       " 322: [[8, 38, 36], [17, 'Fulham']],\n",
       " 323: [[10, 41, 36], [18, 'Reading']],\n",
       " 324: [[8, 46, 35], [19, 'Birmingham']],\n",
       " 325: [[1, 20, 11], [20, 'Derby County']],\n",
       " 326: [[28, 68, 90], [1, 'Manchester United']],\n",
       " 327: [[25, 77, 86], [2, 'Liverpool']],\n",
       " 328: [[25, 68, 83], [3, 'Chelsea']],\n",
       " 329: [[20, 68, 72], [4, 'Arsenal']],\n",
       " 330: [[17, 55, 63], [5, 'Everton']],\n",
       " 331: [[17, 54, 62], [6, 'Aston Villa']],\n",
       " 332: [[14, 39, 53], [7, 'Fulham']],\n",
       " 333: [[14, 45, 51], [8, 'Tottenham']],\n",
       " 334: [[14, 42, 51], [9, 'West Ham']],\n",
       " 335: [[15, 58, 50], [10, 'Manchester City']],\n",
       " 336: [[12, 34, 45], [11, 'Wigan']],\n",
       " 337: [[12, 38, 45], [12, 'Stoke City']],\n",
       " 338: [[11, 41, 41], [13, 'Bolton Wanderers']],\n",
       " 339: [[10, 38, 41], [14, 'Portsmouth']],\n",
       " 340: [[10, 40, 41], [15, 'Blackburn Rovers']],\n",
       " 341: [[9, 34, 36], [16, 'Sunderland']],\n",
       " 342: [[8, 39, 35], [17, 'Hull City']],\n",
       " 343: [[7, 40, 34], [18, 'Newcastle']],\n",
       " 344: [[7, 28, 32], [19, 'Middlesbrough']],\n",
       " 345: [[8, 36, 32], [20, 'West Bromwich']],\n",
       " 346: [[27, 103, 86], [1, 'Chelsea']],\n",
       " 347: [[27, 86, 85], [2, 'Manchester United']],\n",
       " 348: [[23, 83, 75], [3, 'Arsenal']],\n",
       " 349: [[21, 67, 70], [4, 'Tottenham']],\n",
       " 350: [[18, 73, 67], [5, 'Manchester City']],\n",
       " 351: [[17, 52, 64], [6, 'Aston Villa']],\n",
       " 352: [[18, 61, 63], [7, 'Liverpool']],\n",
       " 353: [[16, 60, 61], [8, 'Everton']],\n",
       " 354: [[13, 38, 50], [9, 'Birmingham']],\n",
       " 355: [[13, 41, 50], [10, 'Blackburn Rovers']],\n",
       " 356: [[11, 34, 47], [11, 'Stoke City']],\n",
       " 357: [[12, 39, 46], [12, 'Fulham']],\n",
       " 358: [[11, 48, 44], [13, 'Sunderland']],\n",
       " 359: [[10, 42, 39], [14, 'Bolton Wanderers']],\n",
       " 360: [[9, 32, 38], [15, 'Wolverhampton']],\n",
       " 361: [[9, 37, 36], [16, 'Wigan']],\n",
       " 362: [[8, 47, 35], [17, 'West Ham']],\n",
       " 363: [[8, 42, 30], [18, 'Burnley']],\n",
       " 364: [[6, 34, 30], [19, 'Hull City']],\n",
       " 365: [[7, 34, 19], [20, 'Portsmouth']],\n",
       " 366: [[23, 78, 80], [1, 'Manchester United']],\n",
       " 367: [[21, 69, 71], [2, 'Chelsea']],\n",
       " 368: [[21, 60, 71], [3, 'Manchester City']],\n",
       " 369: [[19, 72, 68], [4, 'Arsenal']],\n",
       " 370: [[16, 55, 62], [5, 'Tottenham']],\n",
       " 371: [[17, 59, 58], [6, 'Liverpool']],\n",
       " 372: [[13, 51, 54], [7, 'Everton']],\n",
       " 373: [[11, 49, 49], [8, 'Fulham']],\n",
       " 374: [[12, 48, 48], [9, 'Aston Villa']],\n",
       " 375: [[12, 45, 47], [10, 'Sunderland']],\n",
       " 376: [[12, 56, 47], [11, 'West Bromwich']],\n",
       " 377: [[11, 56, 46], [12, 'Newcastle']],\n",
       " 378: [[13, 46, 46], [13, 'Stoke City']],\n",
       " 379: [[12, 52, 46], [14, 'Bolton Wanderers']],\n",
       " 380: [[11, 46, 43], [15, 'Blackburn Rovers']],\n",
       " 381: [[9, 40, 42], [16, 'Wigan']],\n",
       " 382: [[11, 46, 40], [17, 'Wolverhampton']],\n",
       " 383: [[8, 37, 39], [18, 'Birmingham']],\n",
       " 384: [[10, 55, 39], [19, 'Blackpool']],\n",
       " 385: [[7, 43, 33], [20, 'West Ham']],\n",
       " 386: [[28, 93, 89], [1, 'Manchester City']],\n",
       " 387: [[28, 89, 89], [2, 'Manchester United']],\n",
       " 388: [[21, 74, 70], [3, 'Arsenal']],\n",
       " 389: [[20, 66, 69], [4, 'Tottenham']],\n",
       " 390: [[19, 56, 65], [5, 'Newcastle']],\n",
       " 391: [[18, 65, 64], [6, 'Chelsea']],\n",
       " 392: [[15, 50, 56], [7, 'Everton']],\n",
       " 393: [[14, 47, 52], [8, 'Liverpool']],\n",
       " 394: [[14, 48, 52], [9, 'Fulham']],\n",
       " 395: [[13, 45, 47], [10, 'West Bromwich']],\n",
       " 396: [[12, 44, 47], [11, 'Swansea']],\n",
       " 397: [[12, 52, 47], [12, 'Norwich']],\n",
       " 398: [[11, 45, 45], [13, 'Sunderland']],\n",
       " 399: [[11, 36, 45], [14, 'Stoke City']],\n",
       " 400: [[11, 42, 43], [15, 'Wigan']],\n",
       " 401: [[7, 37, 38], [16, 'Aston Villa']],\n",
       " 402: [[10, 43, 37], [17, 'Queens Park Rangers']],\n",
       " 403: [[10, 46, 36], [18, 'Bolton Wanderers']],\n",
       " 404: [[8, 48, 31], [19, 'Blackburn Rovers']],\n",
       " 405: [[5, 40, 25], [20, 'Wolverhampton']],\n",
       " 406: [[28, 86, 89], [1, 'Manchester United']],\n",
       " 407: [[23, 66, 78], [2, 'Manchester City']],\n",
       " 408: [[22, 75, 75], [3, 'Chelsea']],\n",
       " 409: [[21, 72, 73], [4, 'Arsenal']],\n",
       " 410: [[21, 66, 72], [5, 'Tottenham']],\n",
       " 411: [[16, 55, 63], [6, 'Everton']],\n",
       " 412: [[16, 71, 61], [7, 'Liverpool']],\n",
       " 413: [[14, 53, 49], [8, 'West Bromwich']],\n",
       " 414: [[11, 47, 46], [9, 'Swansea']],\n",
       " 415: [[12, 45, 46], [10, 'West Ham']],\n",
       " 416: [[10, 41, 44], [11, 'Norwich']],\n",
       " 417: [[11, 50, 43], [12, 'Fulham']],\n",
       " 418: [[9, 34, 42], [13, 'Stoke City']],\n",
       " 419: [[9, 49, 41], [14, 'Southampton']],\n",
       " 420: [[10, 47, 41], [15, 'Aston Villa']],\n",
       " 421: [[11, 45, 41], [16, 'Newcastle']],\n",
       " 422: [[9, 41, 39], [17, 'Sunderland']],\n",
       " 423: [[9, 47, 36], [18, 'Wigan']],\n",
       " 424: [[6, 43, 28], [19, 'Reading']],\n",
       " 425: [[4, 30, 25], [20, 'Queens Park Rangers']],\n",
       " 426: [[27, 102, 86], [1, 'Manchester City']],\n",
       " 427: [[26, 101, 84], [2, 'Liverpool']],\n",
       " 428: [[25, 71, 82], [3, 'Chelsea']],\n",
       " 429: [[24, 68, 79], [4, 'Arsenal']],\n",
       " 430: [[21, 61, 72], [5, 'Everton']],\n",
       " 431: [[21, 55, 69], [6, 'Tottenham']],\n",
       " 432: [[19, 64, 64], [7, 'Manchester United']],\n",
       " 433: [[15, 54, 56], [8, 'Southampton']],\n",
       " 434: [[13, 45, 50], [9, 'Stoke City']],\n",
       " 435: [[15, 43, 49], [10, 'Newcastle']],\n",
       " 436: [[13, 33, 45], [11, 'Crystal Palace']],\n",
       " 437: [[11, 54, 42], [12, 'Swansea']],\n",
       " 438: [[11, 40, 40], [13, 'West Ham']],\n",
       " 439: [[10, 41, 38], [14, 'Sunderland']],\n",
       " 440: [[10, 39, 38], [15, 'Aston Villa']],\n",
       " 441: [[10, 38, 37], [16, 'Hull City']],\n",
       " 442: [[7, 43, 36], [17, 'West Bromwich']],\n",
       " 443: [[8, 28, 33], [18, 'Norwich']],\n",
       " 444: [[9, 40, 32], [19, 'Fulham']],\n",
       " 445: [[7, 32, 30], [20, 'Cardiff']],\n",
       " 446: [[26, 73, 87], [1, 'Chelsea']],\n",
       " 447: [[24, 83, 79], [2, 'Manchester City']],\n",
       " 448: [[22, 71, 75], [3, 'Arsenal']],\n",
       " 449: [[20, 62, 70], [4, 'Manchester United']],\n",
       " 450: [[19, 58, 64], [5, 'Tottenham']],\n",
       " 451: [[18, 52, 62], [6, 'Liverpool']],\n",
       " 452: [[18, 54, 60], [7, 'Southampton']],\n",
       " 453: [[16, 46, 56], [8, 'Swansea']],\n",
       " 454: [[15, 48, 54], [9, 'Stoke City']],\n",
       " 455: [[13, 47, 48], [10, 'Crystal Palace']],\n",
       " 456: [[12, 48, 47], [11, 'Everton']],\n",
       " 457: [[12, 44, 47], [12, 'West Ham']],\n",
       " 458: [[11, 38, 44], [13, 'West Bromwich']],\n",
       " 459: [[11, 46, 41], [14, 'Leicester']],\n",
       " 460: [[10, 40, 39], [15, 'Newcastle']],\n",
       " 461: [[7, 31, 38], [16, 'Sunderland']],\n",
       " 462: [[10, 31, 38], [17, 'Aston Villa']],\n",
       " 463: [[8, 33, 35], [18, 'Hull City']],\n",
       " 464: [[7, 28, 33], [19, 'Burnley']],\n",
       " 465: [[8, 42, 30], [20, 'Queens Park Rangers']]}"
      ]
     },
     "execution_count": 3,
     "metadata": {},
     "output_type": "execute_result"
    }
   ],
   "source": [
    "teamDict"
   ]
  },
  {
   "cell_type": "markdown",
   "metadata": {},
   "source": [
    "So what are we doing?\n",
    "\n",
    "Well, the KNN algorithm will try to predict a point based on how similar this point is from its neighbors. We will feed the algorithm a point at random, then we will calculate the point's distance from the rest of the training set. Once the distances have been calculated, we will rank them (using the classifier function below) from shortest-to-longest distance and then retrieve the k nearest neighbors. \n",
    "\n",
    "To make the prediction, we will take the majority vote from the k nearest neighbors. "
   ]
  },
  {
   "cell_type": "code",
   "execution_count": 4,
   "metadata": {
    "collapsed": false
   },
   "outputs": [
    {
     "data": {
      "text/plain": [
       "14.89966442575134"
      ]
     },
     "execution_count": 4,
     "metadata": {},
     "output_type": "execute_result"
    }
   ],
   "source": [
    "from scipy import spatial\n",
    "\n",
    "def distance(train, test):\n",
    "    return spatial.distance.euclidean(train[0], test[0])\n",
    "        \n",
    "distance(teamDict[90], teamDict[94])\n",
    "\n"
   ]
  },
  {
   "cell_type": "markdown",
   "metadata": {},
   "source": [
    "The function above calculates the distance between two points. The function below does a couple of things:\n",
    "1. Calculates the distance between the test point and everything point in the training set.\n",
    "2. Sorts the distances from shortest to longest\n",
    "3. Returns the k nearest neighbors from the test point. \n",
    "\n",
    "Note: I stored the training and test sets in a list for every key. We are going to measure the distances for the features (first element of the list). The second element in the list contains the labels or classes. See the teamDict element above.\n",
    "    "
   ]
  },
  {
   "cell_type": "code",
   "execution_count": 5,
   "metadata": {
    "collapsed": false,
    "scrolled": false
   },
   "outputs": [
    {
     "name": "stdout",
     "output_type": "stream",
     "text": [
      "[[24, 67, 84], [1, 'Manchester United']]\n",
      "[3, 2, 2]\n"
     ]
    }
   ],
   "source": [
    "import operator\n",
    "import collections\n",
    "\n",
    "def getNeighbor(train, test, k):\n",
    "    distance = []\n",
    "    for key in train:\n",
    "        team = train[key][1]\n",
    "        dist = (spatial.distance.euclidean(train[key][0], test[0]))\n",
    "        distance.append((team, dist))\n",
    "    distance.sort(key=operator.itemgetter(1))\n",
    "\n",
    "    'getting neighbors'\n",
    "    neighbors = []\n",
    "    for i in range(len(distance)):\n",
    "        for x in range(k):\n",
    "            if distance[i][1] == 0.0:\n",
    "                neighbors.append(distance[x+1][0][0])\n",
    "            else: \n",
    "                neighbors.append(distance[x][0][0])\n",
    "        return neighbors      \n",
    "\n",
    "'You want to feed it like a dictionary!'\n",
    "'Wins, GF, Points'\n",
    "\n",
    "\n",
    "x = [[20, 65, 71], ['Arsenal']]\n",
    "result = getNeighbor(teamDict, teamDict[0], 3)\n",
    "print teamDict[0]\n",
    "print result\n"
   ]
  },
  {
   "cell_type": "markdown",
   "metadata": {
    "collapsed": true
   },
   "source": [
    "The function below will return the majority vote for the neighbors."
   ]
  },
  {
   "cell_type": "code",
   "execution_count": 6,
   "metadata": {
    "collapsed": false
   },
   "outputs": [
    {
     "data": {
      "text/plain": [
       "5"
      ]
     },
     "execution_count": 6,
     "metadata": {},
     "output_type": "execute_result"
    }
   ],
   "source": [
    "import numpy as np\n",
    "\n",
    "def classifier(neighbors):\n",
    "    counter = collections.Counter(neighbors)\n",
    "  \n",
    "    a = []; b=[]; c={}; d={}\n",
    "\n",
    "    for x, y in counter.items():\n",
    "        if y > 1:\n",
    "            a.append((x,y))\n",
    "        else:\n",
    "            b.append((x,y))\n",
    "    if len(a) >=1 :\n",
    "        for i in range(len(a)):\n",
    "            c[a[i][0]] = a[i][1]\n",
    "            \n",
    "        prediction = sorted(c.iteritems(), key = operator.itemgetter(1), reverse=True)[0]\n",
    "        return prediction[0]\n",
    "    else:\n",
    "    # I have modified the condition to return the neighbor that is the nearest to our test point whenever we see a tie!\n",
    "        for i in range(len(b)):\n",
    "            d[b[i][0]] = b[i][1]\n",
    "        xx = []\n",
    "        for x in range(len(d)):\n",
    "            xx.append(sorted(d.iteritems(), key = operator.itemgetter(1), reverse = False)[x][0])\n",
    "        return xx[0]\n",
    "  \n",
    "\n",
    "classifier(getNeighbor(teamDict, x, 3))"
   ]
  },
  {
   "cell_type": "markdown",
   "metadata": {},
   "source": [
    "I am going to download our test set, which is going to be the latestr EPL season 2015-2016. We will test our algorithm's performance."
   ]
  },
  {
   "cell_type": "code",
   "execution_count": 7,
   "metadata": {
    "collapsed": false
   },
   "outputs": [],
   "source": [
    "frame = pd.read_csv(\"C:\\Users\\Javi\\Desktop\\Coursera\\Python\\Projects\\K Nearest Neighbours\\EPL2015-2016.csv\")"
   ]
  },
  {
   "cell_type": "code",
   "execution_count": 8,
   "metadata": {
    "collapsed": false
   },
   "outputs": [
    {
     "data": {
      "text/html": [
       "<div>\n",
       "<table border=\"1\" class=\"dataframe\">\n",
       "  <thead>\n",
       "    <tr style=\"text-align: right;\">\n",
       "      <th></th>\n",
       "      <th>Unnamed: 0</th>\n",
       "      <th>Position</th>\n",
       "      <th>Teams</th>\n",
       "      <th>Games Played</th>\n",
       "      <th>Wins</th>\n",
       "      <th>Lost</th>\n",
       "      <th>Draw</th>\n",
       "      <th>GF</th>\n",
       "      <th>GA</th>\n",
       "      <th>Points</th>\n",
       "      <th>Yellow Cards</th>\n",
       "      <th>Red Cards</th>\n",
       "    </tr>\n",
       "  </thead>\n",
       "  <tbody>\n",
       "    <tr>\n",
       "      <th>0</th>\n",
       "      <td>0</td>\n",
       "      <td>1</td>\n",
       "      <td>Leicester</td>\n",
       "      <td>38</td>\n",
       "      <td>23</td>\n",
       "      <td>3</td>\n",
       "      <td>12</td>\n",
       "      <td>68</td>\n",
       "      <td>36</td>\n",
       "      <td>81</td>\n",
       "      <td>51</td>\n",
       "      <td>3</td>\n",
       "    </tr>\n",
       "    <tr>\n",
       "      <th>1</th>\n",
       "      <td>1</td>\n",
       "      <td>2</td>\n",
       "      <td>Arsenal</td>\n",
       "      <td>38</td>\n",
       "      <td>20</td>\n",
       "      <td>7</td>\n",
       "      <td>11</td>\n",
       "      <td>65</td>\n",
       "      <td>36</td>\n",
       "      <td>71</td>\n",
       "      <td>42</td>\n",
       "      <td>4</td>\n",
       "    </tr>\n",
       "    <tr>\n",
       "      <th>2</th>\n",
       "      <td>2</td>\n",
       "      <td>3</td>\n",
       "      <td>Tottenham</td>\n",
       "      <td>38</td>\n",
       "      <td>19</td>\n",
       "      <td>6</td>\n",
       "      <td>13</td>\n",
       "      <td>69</td>\n",
       "      <td>35</td>\n",
       "      <td>70</td>\n",
       "      <td>71</td>\n",
       "      <td>0</td>\n",
       "    </tr>\n",
       "    <tr>\n",
       "      <th>3</th>\n",
       "      <td>3</td>\n",
       "      <td>4</td>\n",
       "      <td>Manchester City</td>\n",
       "      <td>38</td>\n",
       "      <td>19</td>\n",
       "      <td>10</td>\n",
       "      <td>9</td>\n",
       "      <td>71</td>\n",
       "      <td>41</td>\n",
       "      <td>66</td>\n",
       "      <td>58</td>\n",
       "      <td>0</td>\n",
       "    </tr>\n",
       "    <tr>\n",
       "      <th>4</th>\n",
       "      <td>4</td>\n",
       "      <td>5</td>\n",
       "      <td>Manchester United</td>\n",
       "      <td>38</td>\n",
       "      <td>19</td>\n",
       "      <td>10</td>\n",
       "      <td>9</td>\n",
       "      <td>49</td>\n",
       "      <td>35</td>\n",
       "      <td>66</td>\n",
       "      <td>66</td>\n",
       "      <td>1</td>\n",
       "    </tr>\n",
       "  </tbody>\n",
       "</table>\n",
       "</div>"
      ],
      "text/plain": [
       "   Unnamed: 0  Position              Teams  Games Played  Wins  Lost  Draw  \\\n",
       "0           0         1          Leicester            38    23     3    12   \n",
       "1           1         2            Arsenal            38    20     7    11   \n",
       "2           2         3          Tottenham            38    19     6    13   \n",
       "3           3         4    Manchester City            38    19    10     9   \n",
       "4           4         5  Manchester United            38    19    10     9   \n",
       "\n",
       "   GF  GA  Points  Yellow Cards  Red Cards  \n",
       "0  68  36      81            51          3  \n",
       "1  65  36      71            42          4  \n",
       "2  69  35      70            71          0  \n",
       "3  71  41      66            58          0  \n",
       "4  49  35      66            66          1  "
      ]
     },
     "execution_count": 8,
     "metadata": {},
     "output_type": "execute_result"
    }
   ],
   "source": [
    "frame.head()"
   ]
  },
  {
   "cell_type": "code",
   "execution_count": 9,
   "metadata": {
    "collapsed": false
   },
   "outputs": [],
   "source": [
    "currentSeason = {}\n",
    "\n",
    "for i in range(len(frame.Position)):\n",
    "    currentSeason[i] = [[int(frame.Wins[i]), int(frame.GF[i]), int(frame.Points[i])], [int(frame.Position[i]), frame.Teams[i]]]"
   ]
  },
  {
   "cell_type": "code",
   "execution_count": 10,
   "metadata": {
    "collapsed": false
   },
   "outputs": [
    {
     "data": {
      "text/plain": [
       "{0: [[23, 68, 81], [1, 'Leicester']],\n",
       " 1: [[20, 65, 71], [2, 'Arsenal']],\n",
       " 2: [[19, 69, 70], [3, 'Tottenham']],\n",
       " 3: [[19, 71, 66], [4, 'Manchester City']],\n",
       " 4: [[19, 49, 66], [5, 'Manchester United']],\n",
       " 5: [[18, 59, 63], [6, 'Southampton']],\n",
       " 6: [[16, 65, 62], [7, 'West Ham']],\n",
       " 7: [[16, 63, 60], [8, 'Liverpool']],\n",
       " 8: [[14, 41, 51], [9, 'Stoke City']],\n",
       " 9: [[12, 59, 50], [10, 'Chelsea']],\n",
       " 10: [[11, 59, 47], [11, 'Everton']],\n",
       " 11: [[12, 42, 47], [12, 'Swansea']],\n",
       " 12: [[12, 40, 45], [13, 'Watford']],\n",
       " 13: [[10, 34, 43], [14, 'West Bromwich']],\n",
       " 14: [[11, 39, 42], [15, 'Crystal Palace']],\n",
       " 15: [[11, 45, 42], [16, 'Bournemouth']],\n",
       " 16: [[9, 48, 39], [17, 'Sunderland']],\n",
       " 17: [[9, 44, 37], [18, 'Newcastle']],\n",
       " 18: [[9, 39, 34], [19, 'Norwich']],\n",
       " 19: [[3, 27, 17], [20, 'Aston Villa']]}"
      ]
     },
     "execution_count": 10,
     "metadata": {},
     "output_type": "execute_result"
    }
   ],
   "source": [
    "currentSeason"
   ]
  },
  {
   "cell_type": "code",
   "execution_count": 11,
   "metadata": {
    "collapsed": false
   },
   "outputs": [
    {
     "name": "stdout",
     "output_type": "stream",
     "text": [
      "Our classifier was able to predict for 3 neighbors 15.0 % correct values!\n",
      "Our classifier was able to predict for 2 neighbors 20.0 % correct values!\n",
      "Our classifier was able to predict for 1 neighbors 25.0 % correct values!\n"
     ]
    }
   ],
   "source": [
    "def Test(train, test, a):\n",
    "    compTable = []\n",
    "    actual =[]\n",
    "    for key in test:\n",
    "        x = getNeighbor(train,test[key],a) \n",
    "        c = classifier(x)\n",
    "        compTable.append(c)\n",
    "        actual.append(test[key][1])\n",
    "\n",
    "    correct = 0\n",
    "    for x in range(len(compTable)):\n",
    "        #print compTable[x], actual[x][0]\n",
    "        if compTable[x] == actual[x][0]:\n",
    "            correct += 1\n",
    "    print \"Our classifier was able to predict for\", a, \"neighbors\", round(((correct/float(len(compTable))) * 100.0)), \"% correct values!\"\n",
    "Test(teamDict, currentSeason, 3)\n",
    "Test(teamDict, currentSeason, 2)\n",
    "Test(teamDict, currentSeason, 1)\n"
   ]
  },
  {
   "cell_type": "markdown",
   "metadata": {
    "collapsed": false
   },
   "source": [
    "Okay so our Classifier wasn't that accurate with this data! I am thinking that the GA variable varies too much and it's not a good predictor, maybe having  a variable for goal difference could give better results. Below I will calculate the variance for different variables in our dataframe. \n",
    "\n",
    "What do we now? Well, we can try different data!"
   ]
  },
  {
   "cell_type": "code",
   "execution_count": 12,
   "metadata": {
    "collapsed": false
   },
   "outputs": [
    {
     "name": "stdout",
     "output_type": "stream",
     "text": [
      "The variance for Goals in favor is 158\n",
      "The SD for Goals in favor is 12\n",
      "\n",
      "The variance for Points is 247\n",
      "The SD for Points is 15\n"
     ]
    }
   ],
   "source": [
    "import numpy as np\n",
    "print \"The variance for Goals in favor is %d\" %(np.var(data.GA))\n",
    "print \"The SD for Goals in favor is %d\" %np.std(data.GA)\n",
    "print \n",
    "print \"The variance for Points is %d\" %np.var(data.Points)\n",
    "print \"The SD for Points is %d\" %np.std(data.Points)"
   ]
  },
  {
   "cell_type": "markdown",
   "metadata": {},
   "source": [
    "Well the results above proved me wrong. My second guess is that the EPL is a league that varies a lot in terms of points.\n",
    "Let's take Arsenal for example. They ended up in second with 71 points, but the closest neighbors with similar characteristics ended up in 5th and 6th."
   ]
  },
  {
   "cell_type": "code",
   "execution_count": 13,
   "metadata": {
    "collapsed": false
   },
   "outputs": [
    {
     "name": "stdout",
     "output_type": "stream",
     "text": [
      "[[20, 65, 71], [2, 'Arsenal']]\n"
     ]
    },
    {
     "data": {
      "text/plain": [
       "[5, 5, 6]"
      ]
     },
     "execution_count": 13,
     "metadata": {},
     "output_type": "execute_result"
    }
   ],
   "source": [
    "print currentSeason[1]\n",
    "getNeighbor(teamDict, currentSeason[1], 3)"
   ]
  },
  {
   "cell_type": "markdown",
   "metadata": {},
   "source": [
    "So my algorithm didn't perform well with this data. Let me see if I can apply with different data, perhaps predicting the type of pass for a team in a game. This could help us analyze the passing game for a team."
   ]
  },
  {
   "cell_type": "code",
   "execution_count": 14,
   "metadata": {
    "collapsed": false
   },
   "outputs": [],
   "source": [
    "df = pd.read_csv(\"C:\\Users\\Javi\\Desktop\\Coursera\\Python\\Projects\\K Nearest Neighbours\\Opta.csv\")"
   ]
  },
  {
   "cell_type": "code",
   "execution_count": 15,
   "metadata": {
    "collapsed": false
   },
   "outputs": [
    {
     "data": {
      "text/html": [
       "<div>\n",
       "<table border=\"1\" class=\"dataframe\">\n",
       "  <thead>\n",
       "    <tr style=\"text-align: right;\">\n",
       "      <th></th>\n",
       "      <th>Unnamed: 0</th>\n",
       "      <th>min</th>\n",
       "      <th>sec</th>\n",
       "      <th>x</th>\n",
       "      <th>y</th>\n",
       "      <th>name</th>\n",
       "      <th>q_name</th>\n",
       "      <th>keypass</th>\n",
       "      <th>team_id</th>\n",
       "      <th>event_id</th>\n",
       "      <th>assist</th>\n",
       "      <th>outcome</th>\n",
       "      <th>value</th>\n",
       "      <th>id_x</th>\n",
       "    </tr>\n",
       "  </thead>\n",
       "  <tbody>\n",
       "    <tr>\n",
       "      <th>0</th>\n",
       "      <td>0</td>\n",
       "      <td>0</td>\n",
       "      <td>0</td>\n",
       "      <td>0</td>\n",
       "      <td>0</td>\n",
       "      <td>Team set up</td>\n",
       "      <td>Involved</td>\n",
       "      <td>NaN</td>\n",
       "      <td>2012</td>\n",
       "      <td>1</td>\n",
       "      <td>NaN</td>\n",
       "      <td>1</td>\n",
       "      <td>14056, 20779, 9895, 17839, 21104, 17561, 5064,...</td>\n",
       "      <td>NaN</td>\n",
       "    </tr>\n",
       "    <tr>\n",
       "      <th>1</th>\n",
       "      <td>1</td>\n",
       "      <td>0</td>\n",
       "      <td>0</td>\n",
       "      <td>0</td>\n",
       "      <td>0</td>\n",
       "      <td>Team set up</td>\n",
       "      <td>Involved</td>\n",
       "      <td>NaN</td>\n",
       "      <td>2012</td>\n",
       "      <td>1</td>\n",
       "      <td>NaN</td>\n",
       "      <td>1</td>\n",
       "      <td>18193, 18257, 19490, 20379, 41452, 18196, 6627...</td>\n",
       "      <td>NaN</td>\n",
       "    </tr>\n",
       "    <tr>\n",
       "      <th>2</th>\n",
       "      <td>2</td>\n",
       "      <td>0</td>\n",
       "      <td>0</td>\n",
       "      <td>0</td>\n",
       "      <td>0</td>\n",
       "      <td>Team set up</td>\n",
       "      <td>Team Player Formation</td>\n",
       "      <td>NaN</td>\n",
       "      <td>2012</td>\n",
       "      <td>1</td>\n",
       "      <td>NaN</td>\n",
       "      <td>1</td>\n",
       "      <td>1, 2, 3, 4, 5, 6, 7, 8, 9, 10, 11, 0, 0, 0, 0,...</td>\n",
       "      <td>NaN</td>\n",
       "    </tr>\n",
       "    <tr>\n",
       "      <th>3</th>\n",
       "      <td>3</td>\n",
       "      <td>0</td>\n",
       "      <td>0</td>\n",
       "      <td>0</td>\n",
       "      <td>0</td>\n",
       "      <td>Team set up</td>\n",
       "      <td>Team Player Formation</td>\n",
       "      <td>NaN</td>\n",
       "      <td>2012</td>\n",
       "      <td>1</td>\n",
       "      <td>NaN</td>\n",
       "      <td>1</td>\n",
       "      <td>1, 2, 3, 4, 5, 6, 7, 8, 9, 10, 11, 0, 0, 0, 0,...</td>\n",
       "      <td>NaN</td>\n",
       "    </tr>\n",
       "    <tr>\n",
       "      <th>4</th>\n",
       "      <td>4</td>\n",
       "      <td>0</td>\n",
       "      <td>0</td>\n",
       "      <td>0</td>\n",
       "      <td>0</td>\n",
       "      <td>Team set up</td>\n",
       "      <td>Team Formation</td>\n",
       "      <td>NaN</td>\n",
       "      <td>2012</td>\n",
       "      <td>1</td>\n",
       "      <td>NaN</td>\n",
       "      <td>1</td>\n",
       "      <td>4</td>\n",
       "      <td>NaN</td>\n",
       "    </tr>\n",
       "  </tbody>\n",
       "</table>\n",
       "</div>"
      ],
      "text/plain": [
       "   Unnamed: 0  min  sec  x  y         name                 q_name  keypass  \\\n",
       "0           0    0    0  0  0  Team set up               Involved      NaN   \n",
       "1           1    0    0  0  0  Team set up               Involved      NaN   \n",
       "2           2    0    0  0  0  Team set up  Team Player Formation      NaN   \n",
       "3           3    0    0  0  0  Team set up  Team Player Formation      NaN   \n",
       "4           4    0    0  0  0  Team set up         Team Formation      NaN   \n",
       "\n",
       "   team_id  event_id  assist  outcome  \\\n",
       "0     2012         1     NaN        1   \n",
       "1     2012         1     NaN        1   \n",
       "2     2012         1     NaN        1   \n",
       "3     2012         1     NaN        1   \n",
       "4     2012         1     NaN        1   \n",
       "\n",
       "                                               value  id_x  \n",
       "0  14056, 20779, 9895, 17839, 21104, 17561, 5064,...   NaN  \n",
       "1  18193, 18257, 19490, 20379, 41452, 18196, 6627...   NaN  \n",
       "2  1, 2, 3, 4, 5, 6, 7, 8, 9, 10, 11, 0, 0, 0, 0,...   NaN  \n",
       "3  1, 2, 3, 4, 5, 6, 7, 8, 9, 10, 11, 0, 0, 0, 0,...   NaN  \n",
       "4                                                  4   NaN  "
      ]
     },
     "execution_count": 15,
     "metadata": {},
     "output_type": "execute_result"
    }
   ],
   "source": [
    "df.head()"
   ]
  },
  {
   "cell_type": "code",
   "execution_count": 16,
   "metadata": {
    "collapsed": false
   },
   "outputs": [
    {
     "data": {
      "text/plain": [
       "<matplotlib.axes._subplots.AxesSubplot at 0xbf4f2e8>"
      ]
     },
     "execution_count": 16,
     "metadata": {},
     "output_type": "execute_result"
    },
    {
     "data": {
      "image/png": "[encoded data removed]",
      "text/plain": [
       "<matplotlib.figure.Figure at 0xbf4ff60>"
      ]
     },
     "metadata": {},
     "output_type": "display_data"
    }
   ],
   "source": [
    "plt.figure()\n",
    "counting_events = df['name'].value_counts()\n",
    "\n",
    "counting_events.plot(kind = 'barh', figsize=(12, 10))"
   ]
  },
  {
   "cell_type": "markdown",
   "metadata": {},
   "source": [
    "We are going to analyze the most common event in the data frame- I will focus on complete events!"
   ]
  },
  {
   "cell_type": "code",
   "execution_count": 17,
   "metadata": {
    "collapsed": false
   },
   "outputs": [
    {
     "data": {
      "text/html": [
       "<div>\n",
       "<table border=\"1\" class=\"dataframe\">\n",
       "  <thead>\n",
       "    <tr style=\"text-align: right;\">\n",
       "      <th></th>\n",
       "      <th>x</th>\n",
       "      <th>y</th>\n",
       "    </tr>\n",
       "  </thead>\n",
       "  <tbody>\n",
       "    <tr>\n",
       "      <th>count</th>\n",
       "      <td>450.000000</td>\n",
       "      <td>450.000000</td>\n",
       "    </tr>\n",
       "    <tr>\n",
       "      <th>mean</th>\n",
       "      <td>44.787556</td>\n",
       "      <td>51.419556</td>\n",
       "    </tr>\n",
       "    <tr>\n",
       "      <th>std</th>\n",
       "      <td>21.980357</td>\n",
       "      <td>30.386503</td>\n",
       "    </tr>\n",
       "    <tr>\n",
       "      <th>min</th>\n",
       "      <td>2.900000</td>\n",
       "      <td>0.000000</td>\n",
       "    </tr>\n",
       "    <tr>\n",
       "      <th>25%</th>\n",
       "      <td>31.425000</td>\n",
       "      <td>27.150000</td>\n",
       "    </tr>\n",
       "    <tr>\n",
       "      <th>50%</th>\n",
       "      <td>39.800000</td>\n",
       "      <td>53.300000</td>\n",
       "    </tr>\n",
       "    <tr>\n",
       "      <th>75%</th>\n",
       "      <td>58.200000</td>\n",
       "      <td>73.400000</td>\n",
       "    </tr>\n",
       "    <tr>\n",
       "      <th>max</th>\n",
       "      <td>99.500000</td>\n",
       "      <td>100.000000</td>\n",
       "    </tr>\n",
       "  </tbody>\n",
       "</table>\n",
       "</div>"
      ],
      "text/plain": [
       "                x           y\n",
       "count  450.000000  450.000000\n",
       "mean    44.787556   51.419556\n",
       "std     21.980357   30.386503\n",
       "min      2.900000    0.000000\n",
       "25%     31.425000   27.150000\n",
       "50%     39.800000   53.300000\n",
       "75%     58.200000   73.400000\n",
       "max     99.500000  100.000000"
      ]
     },
     "execution_count": 17,
     "metadata": {},
     "output_type": "execute_result"
    }
   ],
   "source": [
    "df.columns\n",
    "passes = df[(df.outcome == 1) & (df.name == 'Pass')]\n",
    "passes = passes[[3,4,6]]\n",
    "passes.describe()"
   ]
  },
  {
   "cell_type": "code",
   "execution_count": 18,
   "metadata": {
    "collapsed": false
   },
   "outputs": [],
   "source": [
    "from pandas import DataFrame\n",
    "x = []\n",
    "y =[]\n",
    "q_name = []\n",
    "for xx,yy in zip(passes.x, passes.y):\n",
    "    x.append(xx)\n",
    "    y.append(yy)\n",
    "\n",
    "for item in passes.q_name:\n",
    "    q_name.append(item)\n",
    "dat = {'x' : x, 'y':y, 'q_name': q_name}   \n",
    "\n",
    "passes = DataFrame(data = dat,\n",
    "                  columns = ['x', 'y', 'q_name'])\n",
    "     "
   ]
  },
  {
   "cell_type": "markdown",
   "metadata": {},
   "source": [
    "We had to create another dataframe because python cannot perform the below operation on subsets of dataframes! Learned that the hard way!!!!!!"
   ]
  },
  {
   "cell_type": "code",
   "execution_count": 19,
   "metadata": {
    "collapsed": false
   },
   "outputs": [
    {
     "data": {
      "text/plain": [
       "[[69.400000000000006, 91.400000000000006], ['Regular play']]"
      ]
     },
     "execution_count": 19,
     "metadata": {},
     "output_type": "execute_result"
    }
   ],
   "source": [
    "Events = {}\n",
    "\n",
    "for i in range(len(passes.x)):\n",
    "    Events[i] = [[passes.x[i], passes.y[i]], [passes.q_name[i]]]\n",
    "Events[300]\n"
   ]
  },
  {
   "cell_type": "markdown",
   "metadata": {},
   "source": [
    "Let's see what types of passes are more likely to happen."
   ]
  },
  {
   "cell_type": "code",
   "execution_count": 20,
   "metadata": {
    "collapsed": false
   },
   "outputs": [
    {
     "data": {
      "text/plain": [
       "['Long ball', 'Chipped', 'Cross']"
      ]
     },
     "execution_count": 20,
     "metadata": {},
     "output_type": "execute_result"
    }
   ],
   "source": [
    "p = [[1, 50]]\n",
    "q = [[90, 10]]\n",
    "getNeighbor(Events, q,3)"
   ]
  },
  {
   "cell_type": "markdown",
   "metadata": {},
   "source": [
    "Now let's try to make some predictions!"
   ]
  },
  {
   "cell_type": "code",
   "execution_count": 21,
   "metadata": {
    "collapsed": false
   },
   "outputs": [
    {
     "data": {
      "text/plain": [
       "'Long ball'"
      ]
     },
     "execution_count": 21,
     "metadata": {},
     "output_type": "execute_result"
    }
   ],
   "source": [
    "classifier(getNeighbor(Events, q, 3))"
   ]
  },
  {
   "cell_type": "markdown",
   "metadata": {},
   "source": [
    "Let's get sample of our training set, which is the whole data set!"
   ]
  },
  {
   "cell_type": "code",
   "execution_count": 22,
   "metadata": {
    "collapsed": false
   },
   "outputs": [
    {
     "name": "stdout",
     "output_type": "stream",
     "text": [
      "292\n",
      "158\n"
     ]
    }
   ],
   "source": [
    "import random\n",
    "ts = []; tt = []\n",
    "\n",
    "for i in range(len(Events)):\n",
    "    if random.random() < 0.65:\n",
    "        ts.append(Events[i])\n",
    "    else:\n",
    "        tt.append(Events[i])\n",
    "        \n",
    "training_set = {}; test_set = {}\n",
    "\n",
    "for i in range(len(ts)):\n",
    "    training_set[i] = ts[i]\n",
    "for i in range(len(tt)):\n",
    "    test_set[i] = tt[i]\n",
    "    \n",
    "\n",
    "print len(training_set)\n",
    "print len(test_set)\n"
   ]
  },
  {
   "cell_type": "code",
   "execution_count": 23,
   "metadata": {
    "collapsed": false
   },
   "outputs": [
    {
     "data": {
      "text/plain": [
       "{0: [[36.899999999999999, 42.5], ['Long ball']],\n",
       " 1: [[46.200000000000003, 50.5], ['Foul']],\n",
       " 2: [[39.600000000000001, 87.400000000000006], ['Long ball']],\n",
       " 3: [[39.600000000000001, 87.400000000000006], ['Free kick taken']],\n",
       " 4: [[39.799999999999997, 53.200000000000003], ['Long ball']],\n",
       " 5: [[39.799999999999997, 53.200000000000003], ['Free kick taken']],\n",
       " 6: [[36.299999999999997, 80.099999999999994], ['Free kick taken']],\n",
       " 7: [[25.800000000000001, 91.099999999999994], ['Foul']],\n",
       " 8: [[8.9000000000000004, 46.100000000000001], ['Long ball']],\n",
       " 9: [[27.300000000000001, 72.299999999999997], ['Long ball']],\n",
       " 10: [[53.600000000000001, 27.699999999999999], ['Free kick taken']],\n",
       " 11: [[31.0, 70.0], ['Long ball']],\n",
       " 12: [[4.7000000000000002, 46.100000000000001], ['Long ball']],\n",
       " 13: [[31.100000000000001, 38.5], ['Long ball']],\n",
       " 14: [[31.100000000000001, 38.5], ['Chipped']],\n",
       " 15: [[55.700000000000003, 90.599999999999994], ['Chipped']],\n",
       " 16: [[38.600000000000001, 68.200000000000003], ['Chipped']],\n",
       " 17: [[66.900000000000006, 45.899999999999999], ['Long ball']],\n",
       " 18: [[28.199999999999999, 65.400000000000006], ['Long ball']],\n",
       " 19: [[78.599999999999994, 5.2999999999999998], ['Chipped']],\n",
       " 20: [[78.599999999999994, 5.2999999999999998], ['Cross']],\n",
       " 21: [[36.200000000000003, 11.300000000000001], ['Long ball']],\n",
       " 22: [[34.299999999999997, 63.700000000000003], ['Cross']],\n",
       " 23: [[36.799999999999997, 7.4000000000000004], ['Throw In']],\n",
       " 24: [[28.399999999999999, 23.399999999999999], ['Long ball']],\n",
       " 25: [[28.399999999999999, 23.399999999999999], ['Chipped']],\n",
       " 26: [[28.399999999999999, 23.399999999999999], ['Cross']],\n",
       " 27: [[38.600000000000001, 30.5], ['Head pass']],\n",
       " 28: [[27.600000000000001, 79.599999999999994], ['Long ball']],\n",
       " 29: [[26.300000000000001, 40.600000000000001], ['Head pass']],\n",
       " 30: [[10.4, 42.700000000000003], ['Free kick taken']],\n",
       " 31: [[49.100000000000001, 31.600000000000001], ['Long ball']],\n",
       " 32: [[57.299999999999997, 100.0], ['Throw In']],\n",
       " 33: [[35.700000000000003, 93.599999999999994], ['One Bounce']],\n",
       " 34: [[35.700000000000003, 93.599999999999994], ['Low Right']],\n",
       " 35: [[5.0, 37.0], ['Goal Kick']],\n",
       " 36: [[88.599999999999994, 13.9], ['Chipped']],\n",
       " 37: [[88.599999999999994, 13.9], ['Cross']],\n",
       " 38: [[88.599999999999994, 13.9], ['Head pass']],\n",
       " 39: [[31.600000000000001, 34.100000000000001], ['Head pass']],\n",
       " 40: [[48.899999999999999, 52.899999999999999], ['Long ball']],\n",
       " 41: [[40.700000000000003, 64.0], ['Head pass']],\n",
       " 42: [[39.799999999999997, 14.1], ['Free kick taken']],\n",
       " 43: [[32.100000000000001, 38.600000000000001], ['Head pass']],\n",
       " 44: [[52.899999999999999, 9.1999999999999993], ['Def block']],\n",
       " 45: [[46.0, 6.7999999999999998], ['Free kick taken']],\n",
       " 46: [[35.0, 91.900000000000006], ['Free kick taken']],\n",
       " 47: [[32.899999999999999, 8.4000000000000004], ['Long ball']],\n",
       " 48: [[32.899999999999999, 8.4000000000000004], ['Long ball']],\n",
       " 49: [[32.899999999999999, 41.600000000000001], ['Long ball']],\n",
       " 50: [[9.0, 53.600000000000001], ['Keeper Throw']],\n",
       " 51: [[32.200000000000003, 93.700000000000003], ['Long ball']],\n",
       " 52: [[34.899999999999999, 66.299999999999997], ['Long ball']],\n",
       " 53: [[35.799999999999997, 86.099999999999994], ['Long ball']],\n",
       " 54: [[31.399999999999999, 6.5999999999999996], ['Chipped']],\n",
       " 55: [[85.0, 0.0], ['Long ball']],\n",
       " 56: [[85.0, 0.0], ['Throw In']],\n",
       " 57: [[85.0, 0.0], ['Corner taken']],\n",
       " 58: [[4.0, 49.5], ['Keeper Throw']],\n",
       " 59: [[58.200000000000003, 77.0], ['Long ball']],\n",
       " 60: [[57.399999999999999, 12.300000000000001], ['Head']],\n",
       " 61: [[32.100000000000001, 100.0], ['Throw In']],\n",
       " 62: [[46.100000000000001, 19.100000000000001], ['Out of play']],\n",
       " 63: [[55.100000000000001, 0.0], ['Throw In']],\n",
       " 64: [[60.700000000000003, 67.900000000000006], ['Long ball']],\n",
       " 65: [[42.399999999999999, 30.5], ['Head']],\n",
       " 66: [[81.5, 12.800000000000001], ['Cross']],\n",
       " 67: [[45.799999999999997, 26.100000000000001], ['Head pass']],\n",
       " 68: [[57.399999999999999, 53.899999999999999], ['Head']],\n",
       " 69: [[36.399999999999999, 65.799999999999997], ['Head']],\n",
       " 70: [[24.899999999999999, 81.900000000000006], ['Head pass']],\n",
       " 71: [[34.899999999999999, 67.900000000000006], ['Throw In']],\n",
       " 72: [[53.0, 100.0], ['Head pass']],\n",
       " 73: [[68.900000000000006, 62.799999999999997], ['Long ball']],\n",
       " 74: [[99.5, 99.5], ['Chipped']],\n",
       " 75: [[99.5, 99.5], ['Corner taken']],\n",
       " 76: [[27.300000000000001, 9.6999999999999993], ['Free kick taken']],\n",
       " 77: [[28.399999999999999, 18.100000000000001], ['Head pass']],\n",
       " 78: [[38.399999999999999, 73.400000000000006], ['Long ball']],\n",
       " 79: [[46.100000000000001, 0.0], ['Throw In']],\n",
       " 80: [[33.299999999999997, 19.5], ['Head pass']],\n",
       " 81: [[66.099999999999994, 37.0], ['Head pass']],\n",
       " 82: [[66.5, 68.0], ['Long ball']],\n",
       " 83: [[66.5, 68.0], ['Hand']],\n",
       " 84: [[32.0, 61.899999999999999], ['Long ball']],\n",
       " 85: [[32.0, 61.899999999999999], ['Chipped']],\n",
       " 86: [[37.399999999999999, 53.399999999999999], ['Assisted']],\n",
       " 87: [[37.399999999999999, 53.399999999999999], ['Intentional Assist']],\n",
       " 88: [[37.399999999999999, 53.399999999999999], ['Box-centre']],\n",
       " 89: [[66.400000000000006, 34.399999999999999], ['Long ball']],\n",
       " 90: [[28.399999999999999, 39.100000000000001], ['Head pass']],\n",
       " 91: [[37.700000000000003, 7.0999999999999996], ['Launch']],\n",
       " 92: [[59.5, 87.400000000000006], ['Free kick taken']],\n",
       " 93: [[58.0, 46.700000000000003], ['Head pass']],\n",
       " 94: [[55.5, 69.700000000000003], ['Long ball']],\n",
       " 95: [[70.599999999999994, 23.199999999999999], ['Foul']],\n",
       " 96: [[28.0, 100.0], ['Throw In']],\n",
       " 97: [[31.5, 11.6], ['Head pass']],\n",
       " 98: [[37.0, 66.900000000000006], ['Long ball']],\n",
       " 99: [[37.0, 66.900000000000006], ['Chipped']],\n",
       " 100: [[69.400000000000006, 91.400000000000006], ['Blocked Y Coordinate']],\n",
       " 101: [[69.400000000000006, 91.400000000000006], ['Assisted']],\n",
       " 102: [[22.899999999999999, 67.099999999999994], ['Long ball']],\n",
       " 103: [[33.5, 58.100000000000001], ['Chipped']],\n",
       " 104: [[22.300000000000001, 51.0], ['Head pass']],\n",
       " 105: [[73.599999999999994, 75.5], ['Head pass']],\n",
       " 106: [[20.5, 13.800000000000001], ['Head pass']],\n",
       " 107: [[29.5, 71.0], ['Head pass']],\n",
       " 108: [[7.0999999999999996, 42.399999999999999], ['Keeper Throw']],\n",
       " 109: [[7.0999999999999996, 42.399999999999999], ['Head pass']],\n",
       " 110: [[55.200000000000003, 96.0], ['Foul']],\n",
       " 111: [[11.5, 41.100000000000001], ['Keeper Throw']],\n",
       " 112: [[60.700000000000003, 100.0], ['Throw In']],\n",
       " 113: [[54.600000000000001, 92.599999999999994], ['Long ball']],\n",
       " 114: [[62.399999999999999, 91.900000000000006], ['Chipped']],\n",
       " 115: [[62.399999999999999, 91.900000000000006], ['Cross']],\n",
       " 116: [[23.300000000000001, 24.600000000000001], ['Head pass']],\n",
       " 117: [[68.5, 58.899999999999999], ['Free kick taken']],\n",
       " 118: [[12.0, 64.0], ['Keeper Throw']],\n",
       " 119: [[26.800000000000001, 65.900000000000006], ['Long ball']],\n",
       " 120: [[35.600000000000001, 66.099999999999994], ['Chipped']],\n",
       " 121: [[38.700000000000003, 86.200000000000003], ['Long ball']],\n",
       " 122: [[44.5, 67.400000000000006], ['Long ball']],\n",
       " 123: [[43.899999999999999, 0.0], ['Throw In']],\n",
       " 124: [[32.899999999999999, 100.0], ['Throw In']],\n",
       " 125: [[21.5, 47.200000000000003], ['Free kick taken']],\n",
       " 126: [[53.200000000000003, 0.0], ['Throw In']],\n",
       " 127: [[44.700000000000003, 100.0], ['Throw In']],\n",
       " 128: [[16.899999999999999, 36.0], ['Long ball']],\n",
       " 129: [[32.0, 43.200000000000003], ['Head pass']],\n",
       " 130: [[22.800000000000001, 29.699999999999999], ['Head pass']],\n",
       " 131: [[97.900000000000006, 85.400000000000006], ['Cross']],\n",
       " 132: [[36.200000000000003, 33.299999999999997], ['Head pass']],\n",
       " 133: [[56.299999999999997, 44.0], ['Free kick taken']],\n",
       " 134: [[57.899999999999999, 39.0], ['Long ball']],\n",
       " 135: [[16.5, 100.0], ['Throw In']],\n",
       " 136: [[58.0, 10.5], ['Long ball']],\n",
       " 137: [[68.700000000000003, 0.0], ['Throw In']],\n",
       " 138: [[10.5, 46.299999999999997], ['Keeper Throw']],\n",
       " 139: [[64.599999999999994, 100.0], ['Throw In']],\n",
       " 140: [[40.399999999999999, 0.0], ['Throw In']],\n",
       " 141: [[51.100000000000001, 71.900000000000006], ['Long ball']],\n",
       " 142: [[51.100000000000001, 71.900000000000006], ['Through ball']],\n",
       " 143: [[71.0, 91.900000000000006], ['Cross']],\n",
       " 144: [[80.299999999999997, 42.399999999999999], ['Head pass']],\n",
       " 145: [[31.5, 89.5], ['Long ball']],\n",
       " 146: [[4.2000000000000002, 62.200000000000003], ['Long ball']],\n",
       " 147: [[63.0, 49.799999999999997], ['Long ball']],\n",
       " 148: [[62.399999999999999, 61.200000000000003], ['Long ball']],\n",
       " 149: [[99.5, 99.5], ['Long ball']],\n",
       " 150: [[99.5, 99.5], ['Cross']],\n",
       " 151: [[90.200000000000003, 24.699999999999999], ['Head pass']],\n",
       " 152: [[14.1, 35.899999999999999], ['Head pass']],\n",
       " 153: [[76.799999999999997, 63.0], ['Lay-off']],\n",
       " 154: [[66.099999999999994, 88.700000000000003], ['Long ball']],\n",
       " 155: [[88.900000000000006, 0.0], ['Throw In']],\n",
       " 156: [[34.399999999999999, 11.800000000000001], ['Free kick taken']],\n",
       " 157: [[10.9, 100.0], ['Throw In']]}"
      ]
     },
     "execution_count": 23,
     "metadata": {},
     "output_type": "execute_result"
    }
   ],
   "source": [
    "Events\n",
    "test_set"
   ]
  },
  {
   "cell_type": "markdown",
   "metadata": {},
   "source": [
    "We are going to test our algorithm with this data! Hopefully it'll perform better!"
   ]
  },
  {
   "cell_type": "code",
   "execution_count": 24,
   "metadata": {
    "collapsed": false
   },
   "outputs": [
    {
     "name": "stdout",
     "output_type": "stream",
     "text": [
      "Our classifier was able to predict for 3 neighbors 37.0 % correct values!\n",
      "Our classifier was able to predict for 2 neighbors 36.0 % correct values!\n",
      "Our classifier was able to predict for 1 neighbors 42.0 % correct values!\n"
     ]
    }
   ],
   "source": [
    "Test(Events, test_set, 3)\n",
    "Test(Events, test_set, 2)\n",
    "Test(Events, test_set, 1)"
   ]
  },
  {
   "cell_type": "markdown",
   "metadata": {},
   "source": [
    "Okay, so the next data set contains players' performances during the 2011-12 EPL season. "
   ]
  },
  {
   "cell_type": "code",
   "execution_count": 25,
   "metadata": {
    "collapsed": false
   },
   "outputs": [],
   "source": [
    "players = pd.read_excel(\"C:\\Users\\Javi\\Desktop\\Coursera\\Python\\Projects\\K Nearest Neighbours\\\\Premier League 2011-12 Match by Match.xls\",\n",
    "                       sheetname = 'Sheet3')"
   ]
  },
  {
   "cell_type": "code",
   "execution_count": 56,
   "metadata": {
    "collapsed": false
   },
   "outputs": [
    {
     "data": {
      "text/html": [
       "<div>\n",
       "<table border=\"1\" class=\"dataframe\">\n",
       "  <thead>\n",
       "    <tr style=\"text-align: right;\">\n",
       "      <th></th>\n",
       "      <th>Index</th>\n",
       "      <th>PlayerID</th>\n",
       "      <th>LastName</th>\n",
       "      <th>FirstName</th>\n",
       "      <th>Appearances</th>\n",
       "      <th>TimePlayed</th>\n",
       "      <th>Starts</th>\n",
       "      <th>SubstituteOn</th>\n",
       "      <th>SubstituteOff</th>\n",
       "      <th>Goals</th>\n",
       "      <th>...</th>\n",
       "      <th>PassForward</th>\n",
       "      <th>PassBackward</th>\n",
       "      <th>PassLeft</th>\n",
       "      <th>PassRight</th>\n",
       "      <th>UnsuccessfulBallTouch</th>\n",
       "      <th>SuccessfulBallTouch</th>\n",
       "      <th>Take-OnsOverrun</th>\n",
       "      <th>Touchesopenplayfinalthird</th>\n",
       "      <th>Touchesopenplayoppbox</th>\n",
       "      <th>Touchesopenplayoppsixyards</th>\n",
       "    </tr>\n",
       "  </thead>\n",
       "  <tbody>\n",
       "    <tr>\n",
       "      <th>0</th>\n",
       "      <td>0</td>\n",
       "      <td>3</td>\n",
       "      <td>Giggs</td>\n",
       "      <td>Ryan</td>\n",
       "      <td>25</td>\n",
       "      <td>1466</td>\n",
       "      <td>14</td>\n",
       "      <td>11</td>\n",
       "      <td>3</td>\n",
       "      <td>2</td>\n",
       "      <td>...</td>\n",
       "      <td>368</td>\n",
       "      <td>110</td>\n",
       "      <td>387</td>\n",
       "      <td>243</td>\n",
       "      <td>25</td>\n",
       "      <td>13</td>\n",
       "      <td>3</td>\n",
       "      <td>386</td>\n",
       "      <td>44</td>\n",
       "      <td>2</td>\n",
       "    </tr>\n",
       "    <tr>\n",
       "      <th>1</th>\n",
       "      <td>1</td>\n",
       "      <td>363</td>\n",
       "      <td>Scholes</td>\n",
       "      <td>Paul</td>\n",
       "      <td>17</td>\n",
       "      <td>1169</td>\n",
       "      <td>14</td>\n",
       "      <td>3</td>\n",
       "      <td>9</td>\n",
       "      <td>4</td>\n",
       "      <td>...</td>\n",
       "      <td>239</td>\n",
       "      <td>95</td>\n",
       "      <td>439</td>\n",
       "      <td>364</td>\n",
       "      <td>10</td>\n",
       "      <td>5</td>\n",
       "      <td>0</td>\n",
       "      <td>208</td>\n",
       "      <td>10</td>\n",
       "      <td>3</td>\n",
       "    </tr>\n",
       "    <tr>\n",
       "      <th>2</th>\n",
       "      <td>2</td>\n",
       "      <td>973</td>\n",
       "      <td>Woodgate</td>\n",
       "      <td>Jonathan</td>\n",
       "      <td>17</td>\n",
       "      <td>1282</td>\n",
       "      <td>16</td>\n",
       "      <td>1</td>\n",
       "      <td>8</td>\n",
       "      <td>0</td>\n",
       "      <td>...</td>\n",
       "      <td>162</td>\n",
       "      <td>35</td>\n",
       "      <td>44</td>\n",
       "      <td>56</td>\n",
       "      <td>4</td>\n",
       "      <td>10</td>\n",
       "      <td>1</td>\n",
       "      <td>31</td>\n",
       "      <td>3</td>\n",
       "      <td>1</td>\n",
       "    </tr>\n",
       "    <tr>\n",
       "      <th>3</th>\n",
       "      <td>3</td>\n",
       "      <td>999</td>\n",
       "      <td>Smith</td>\n",
       "      <td>Alan</td>\n",
       "      <td>2</td>\n",
       "      <td>5</td>\n",
       "      <td>0</td>\n",
       "      <td>2</td>\n",
       "      <td>0</td>\n",
       "      <td>0</td>\n",
       "      <td>...</td>\n",
       "      <td>4</td>\n",
       "      <td>1</td>\n",
       "      <td>1</td>\n",
       "      <td>2</td>\n",
       "      <td>0</td>\n",
       "      <td>0</td>\n",
       "      <td>0</td>\n",
       "      <td>1</td>\n",
       "      <td>0</td>\n",
       "      <td>0</td>\n",
       "    </tr>\n",
       "    <tr>\n",
       "      <th>4</th>\n",
       "      <td>4</td>\n",
       "      <td>1059</td>\n",
       "      <td>Gabbidon</td>\n",
       "      <td>Daniel</td>\n",
       "      <td>17</td>\n",
       "      <td>1424</td>\n",
       "      <td>15</td>\n",
       "      <td>2</td>\n",
       "      <td>1</td>\n",
       "      <td>0</td>\n",
       "      <td>...</td>\n",
       "      <td>207</td>\n",
       "      <td>44</td>\n",
       "      <td>85</td>\n",
       "      <td>88</td>\n",
       "      <td>5</td>\n",
       "      <td>13</td>\n",
       "      <td>0</td>\n",
       "      <td>20</td>\n",
       "      <td>8</td>\n",
       "      <td>2</td>\n",
       "    </tr>\n",
       "  </tbody>\n",
       "</table>\n",
       "<p>5 rows × 200 columns</p>\n",
       "</div>"
      ],
      "text/plain": [
       "   Index  PlayerID  LastName FirstName  Appearances  TimePlayed  Starts  \\\n",
       "0      0         3     Giggs      Ryan           25        1466      14   \n",
       "1      1       363   Scholes      Paul           17        1169      14   \n",
       "2      2       973  Woodgate  Jonathan           17        1282      16   \n",
       "3      3       999     Smith      Alan            2           5       0   \n",
       "4      4      1059  Gabbidon    Daniel           17        1424      15   \n",
       "\n",
       "   SubstituteOn  SubstituteOff  Goals             ...              \\\n",
       "0            11              3      2             ...               \n",
       "1             3              9      4             ...               \n",
       "2             1              8      0             ...               \n",
       "3             2              0      0             ...               \n",
       "4             2              1      0             ...               \n",
       "\n",
       "   PassForward  PassBackward  PassLeft  PassRight  UnsuccessfulBallTouch  \\\n",
       "0          368           110       387        243                     25   \n",
       "1          239            95       439        364                     10   \n",
       "2          162            35        44         56                      4   \n",
       "3            4             1         1          2                      0   \n",
       "4          207            44        85         88                      5   \n",
       "\n",
       "   SuccessfulBallTouch  Take-OnsOverrun  Touchesopenplayfinalthird  \\\n",
       "0                   13                3                        386   \n",
       "1                    5                0                        208   \n",
       "2                   10                1                         31   \n",
       "3                    0                0                          1   \n",
       "4                   13                0                         20   \n",
       "\n",
       "   Touchesopenplayoppbox  Touchesopenplayoppsixyards  \n",
       "0                     44                           2  \n",
       "1                     10                           3  \n",
       "2                      3                           1  \n",
       "3                      0                           0  \n",
       "4                      8                           2  \n",
       "\n",
       "[5 rows x 200 columns]"
      ]
     },
     "execution_count": 56,
     "metadata": {},
     "output_type": "execute_result"
    }
   ],
   "source": [
    "players.head(5)"
   ]
  },
  {
   "cell_type": "code",
   "execution_count": 27,
   "metadata": {
    "collapsed": true
   },
   "outputs": [],
   "source": [
    "nn = list(players.columns)"
   ]
  },
  {
   "cell_type": "code",
   "execution_count": 28,
   "metadata": {
    "collapsed": false
   },
   "outputs": [
    {
     "data": {
      "text/plain": [
       "['Index', 'PlayerID', 'LastName', 'FirstName']"
      ]
     },
     "execution_count": 28,
     "metadata": {},
     "output_type": "execute_result"
    }
   ],
   "source": [
    "xx = []\n",
    "for i in nn:\n",
    "    xx.append(i.encode(\"utf-8\"))\n",
    "                \n",
    "xx[0:4]"
   ]
  },
  {
   "cell_type": "code",
   "execution_count": 29,
   "metadata": {
    "collapsed": false
   },
   "outputs": [
    {
     "data": {
      "text/plain": [
       "['Index',\n",
       " 'PlayerID',\n",
       " 'LastName',\n",
       " 'FirstName',\n",
       " 'Appearances',\n",
       " 'TimePlayed',\n",
       " 'Starts',\n",
       " 'SubstituteOn',\n",
       " 'SubstituteOff',\n",
       " 'Goals',\n",
       " 'WinningGoal',\n",
       " 'ShotsOnTargetincgoals',\n",
       " 'BlockedShots',\n",
       " 'PenaltyGoals',\n",
       " 'DirectFree-kickGoals',\n",
       " 'DirectFree-kickOnTarget',\n",
       " 'BlockedDirectFree-kick',\n",
       " 'GoalsfromInsideBox',\n",
       " 'ShotsOnfromInsideBox',\n",
       " 'ShotsOfffromInsideBox',\n",
       " 'BlockedShotsfromInsideBox',\n",
       " 'ShotsOnTargetOutsideBox',\n",
       " 'GoalsfromOutsideBox',\n",
       " 'ShotsOffTargetOutsideBox',\n",
       " 'BlockedShotsOutsideBox',\n",
       " 'HeadedGoals',\n",
       " 'HeadedShotsOnTarget',\n",
       " 'HeadedBlockedShots',\n",
       " 'HeadedShotsOffTarget',\n",
       " 'LeftFootGoals',\n",
       " 'LeftFootShotsOnTarget',\n",
       " 'LeftFootShotsOffTarget',\n",
       " 'LeftFootBlockedShots',\n",
       " 'RightFootGoals',\n",
       " 'RightFootShotsOnTarget',\n",
       " 'RightFootShotsOffTarget',\n",
       " 'RightFootBlockedShots',\n",
       " 'OtherGoals',\n",
       " 'OtherShotsOnTarget',\n",
       " 'OtherShotsOffTarget',\n",
       " 'OtherBlockedShots',\n",
       " 'ShotsClearedoffLine',\n",
       " 'ShotsClearedoffLineInsideArea',\n",
       " 'ShotsClearedoffLineOutsideArea',\n",
       " 'GoalsOpenPlay',\n",
       " 'GoalsfromCorners',\n",
       " 'GoalsfromThrows',\n",
       " 'GoalsfromDirectFreeKick',\n",
       " 'GoalsfromSetPlay',\n",
       " 'Goalsfrompenalties',\n",
       " 'AttemptsOpenPlayontarget',\n",
       " 'AttemptsfromCornersontarget',\n",
       " 'AttemptsfromThrowsontarget',\n",
       " 'AttemptsfromDirectFreeKickontarget',\n",
       " 'AttemptsfromSetPlayontarget',\n",
       " 'AttemptsfromPenaltiesontarget',\n",
       " 'AttemptsOpenPlayofftarget',\n",
       " 'AttemptsfromCornersofftarget',\n",
       " 'AttemptsfromThrowsofftarget',\n",
       " 'AttemptsfromDirectFreeKickofftarget',\n",
       " 'AttemptsfromSetPlayofftarget',\n",
       " 'AttemptsfromPenaltiesofftarget',\n",
       " 'Goalsasasubstitute',\n",
       " 'TotalSuccessfulPassesAll',\n",
       " 'TotalUnsuccessfulPassesAll',\n",
       " 'Assists',\n",
       " 'KeyPasses',\n",
       " 'TotalSuccessfulPassesExclCrossesCorners',\n",
       " 'TotalUnsuccessfulPassesExclCrossesCorners',\n",
       " 'SuccessfulPassesOwnHalf',\n",
       " 'UnsuccessfulPassesOwnHalf',\n",
       " 'SuccessfulPassesOppositionHalf',\n",
       " 'PenaltiesSaved',\n",
       " 'PenaltiesNotScored',\n",
       " 'DirectFree-kickOffTarget',\n",
       " 'ShotsOffTargetincwoodwork',\n",
       " 'PenaltiesTaken',\n",
       " 'UnsuccessfulPassesOppositionHalf',\n",
       " 'SuccessfulPassesDefensivethird',\n",
       " 'UnsuccessfulPassesDefensivethird',\n",
       " 'SuccessfulPassesMiddlethird',\n",
       " 'UnsuccessfulPassesMiddlethird',\n",
       " 'SuccessfulPassesFinalthird',\n",
       " 'UnsuccessfulPassesFinalthird',\n",
       " 'SuccessfulShortPasses',\n",
       " 'UnsuccessfulShortPasses',\n",
       " 'SuccessfulLongPasses',\n",
       " 'UnsuccessfulLongPasses',\n",
       " 'SuccessfulFlick-Ons',\n",
       " 'UnsuccessfulFlick-Ons',\n",
       " 'SuccessfulCrossesCorners',\n",
       " 'UnsuccessfulCrossesCorners',\n",
       " 'CornersTakeninclshortcorners',\n",
       " 'CornersConceded',\n",
       " 'SuccessfulCornersintoBox',\n",
       " 'UnsuccessfulCornersintoBox',\n",
       " 'ShortCorners',\n",
       " 'ThrowInstoOwnPlayer',\n",
       " 'ThrowInstoOppositionPlayer',\n",
       " 'SuccessfulDribbles',\n",
       " 'UnsuccessfulDribbles',\n",
       " 'SuccessfulCrossesCornersLeft',\n",
       " 'UnsuccessfulCrossesCornersLeft',\n",
       " 'SuccessfulCrossesLeft',\n",
       " 'UnsuccessfulCrossesLeft',\n",
       " 'SuccessfulCornersLeft',\n",
       " 'UnsuccessfulCornersLeft',\n",
       " 'SuccessfulCrossesCornersRight',\n",
       " 'UnsuccessfulCrossesCornersRight',\n",
       " 'SuccessfulCrossesRight',\n",
       " 'UnsuccessfulCrossesRight',\n",
       " 'SuccessfulCornersRight',\n",
       " 'UnsuccessfulCornersRight',\n",
       " 'SuccessfulLongBalls',\n",
       " 'UnsuccessfulLongBalls',\n",
       " 'SuccessfulLay-Offs',\n",
       " 'UnsuccessfulLay-Offs',\n",
       " 'ThroughBall',\n",
       " 'SuccessfulCrossesCornersintheair',\n",
       " 'UnsuccessfulCrossesCornersintheair',\n",
       " 'Successfulcrossesintheair',\n",
       " 'Unsuccessfulcrossesintheair',\n",
       " 'Successfulopenplaycrosses',\n",
       " 'Unsuccessfulopenplaycrosses',\n",
       " 'Touches',\n",
       " 'GoalAssistCorner',\n",
       " 'GoalAssistFreeKick',\n",
       " 'GoalAssistThrowIn',\n",
       " 'GoalAssistGoalKick',\n",
       " 'GoalAssistSetPiece',\n",
       " 'KeyCorner',\n",
       " 'KeyFreeKick',\n",
       " 'KeyThrowIn',\n",
       " 'KeyGoalKick',\n",
       " 'KeySetPieces',\n",
       " 'Duelswon',\n",
       " 'Duelslost',\n",
       " 'AerialDuelswon',\n",
       " 'AerialDuelslost',\n",
       " 'GroundDuelswon',\n",
       " 'GroundDuelslost',\n",
       " 'TacklesWon',\n",
       " 'TacklesLost',\n",
       " 'LastManTackle',\n",
       " 'TotalClearances',\n",
       " 'HeadedClearances',\n",
       " 'OtherClearances',\n",
       " 'ClearancesOfftheLine',\n",
       " 'Blocks',\n",
       " 'Interceptions',\n",
       " 'Recoveries',\n",
       " 'TotalFoulsConceded',\n",
       " 'FoulsConcededexchandballspens',\n",
       " 'TotalFoulsWon',\n",
       " 'FoulsWoninDangerAreaincpens',\n",
       " 'FoulsWonnotindangerarea',\n",
       " 'FoulWonPenalty',\n",
       " 'HandballsConceded',\n",
       " 'PenaltiesConceded',\n",
       " 'Offsides',\n",
       " 'YellowCards',\n",
       " 'RedCards',\n",
       " 'GoalsConceded',\n",
       " 'GoalsConcededInsideBox',\n",
       " 'GoalsConcededOutsideBox',\n",
       " 'SavesMade',\n",
       " 'SavesMadefromInsideBox',\n",
       " 'SavesMadefromOutsideBox',\n",
       " 'SavesfromPenalty',\n",
       " 'Catches',\n",
       " 'Punches',\n",
       " 'Drops',\n",
       " 'CrossesnotClaimed',\n",
       " 'GKDistribution',\n",
       " 'GKSuccessfulDistribution',\n",
       " 'GKUnsuccessfulDistribution',\n",
       " 'CleanSheets',\n",
       " 'TeamCleansheet',\n",
       " 'ErrorleadingtoGoal',\n",
       " 'ErrorleadingtoAttempt',\n",
       " 'ChallengeLost',\n",
       " 'ShotsOnConceded',\n",
       " 'ShotsOnConcededInsideBox',\n",
       " 'ShotsOnConcededOutsideBox',\n",
       " 'TeamFormation',\n",
       " 'PositioninFormation',\n",
       " 'Turnovers',\n",
       " 'Dispossessed',\n",
       " 'BigChances',\n",
       " 'BigChancesFaced',\n",
       " 'PassForward',\n",
       " 'PassBackward',\n",
       " 'PassLeft',\n",
       " 'PassRight',\n",
       " 'UnsuccessfulBallTouch',\n",
       " 'SuccessfulBallTouch',\n",
       " 'Take-OnsOverrun',\n",
       " 'Touchesopenplayfinalthird',\n",
       " 'Touchesopenplayoppbox',\n",
       " 'Touchesopenplayoppsixyards']"
      ]
     },
     "execution_count": 29,
     "metadata": {},
     "output_type": "execute_result"
    }
   ],
   "source": [
    "names = []\n",
    "for i in range(0,200):\n",
    "    names.append(xx[i])\n",
    "names"
   ]
  },
  {
   "cell_type": "code",
   "execution_count": 30,
   "metadata": {
    "collapsed": false
   },
   "outputs": [],
   "source": [
    "w = players.as_matrix(columns = names)"
   ]
  },
  {
   "cell_type": "code",
   "execution_count": 31,
   "metadata": {
    "collapsed": false
   },
   "outputs": [],
   "source": [
    "play = {}\n",
    "for i in range(len(w)):\n",
    "    play[i] = [[w[i][4:]], [w[i][0:4]]]"
   ]
  },
  {
   "cell_type": "code",
   "execution_count": 32,
   "metadata": {
    "collapsed": false
   },
   "outputs": [],
   "source": [
    "RyanGiggs = play[0]"
   ]
  },
  {
   "cell_type": "markdown",
   "metadata": {},
   "source": [
    "So for Ryan Giggs, we see that the most similar player is James Milner, who was at the time playing for Manchester City. "
   ]
  },
  {
   "cell_type": "code",
   "execution_count": 33,
   "metadata": {
    "collapsed": false
   },
   "outputs": [
    {
     "data": {
      "text/plain": [
       "[array([184L, 15157L, u'Milner', u'James'], dtype=object),\n",
       " array([32L, 1814L, u'Gerrard', u'Steven'], dtype=object),\n",
       " array([204L, 16045L, u'Watson', u'Ben'], dtype=object)]"
      ]
     },
     "execution_count": 33,
     "metadata": {},
     "output_type": "execute_result"
    }
   ],
   "source": [
    "getNeighbor(play, RyanGiggs ,3)"
   ]
  },
  {
   "cell_type": "code",
   "execution_count": 34,
   "metadata": {
    "collapsed": false
   },
   "outputs": [],
   "source": [
    "FrankLampard= play[49]"
   ]
  },
  {
   "cell_type": "code",
   "execution_count": 35,
   "metadata": {
    "collapsed": false
   },
   "outputs": [
    {
     "data": {
      "text/plain": [
       "[array([78L, 4611L, u'van der Vaart', u'Rafael'], dtype=object),\n",
       " array([219L, 17812L, u'Fox', u'David'], dtype=object),\n",
       " array([266L, 19921L, u'Meireles', u'Raul'], dtype=object)]"
      ]
     },
     "execution_count": 35,
     "metadata": {},
     "output_type": "execute_result"
    }
   ],
   "source": [
    "getNeighbor(play, FrankLampard ,3)"
   ]
  },
  {
   "cell_type": "code",
   "execution_count": 36,
   "metadata": {
    "collapsed": false
   },
   "outputs": [
    {
     "data": {
      "text/plain": [
       "[array([410L, 43670L, u'Mata', u'Juan'], dtype=object),\n",
       " array([320L, 28554L, u'Nasri', u'Samir'], dtype=object),\n",
       " array([49L, 2051L, u'Lampard', u'Frank'], dtype=object)]"
      ]
     },
     "execution_count": 36,
     "metadata": {},
     "output_type": "execute_result"
    }
   ],
   "source": [
    "VanDerVaart = play[78]\n",
    "getNeighbor(play, VanDerVaart ,3)"
   ]
  },
  {
   "cell_type": "code",
   "execution_count": 37,
   "metadata": {
    "collapsed": false
   },
   "outputs": [
    {
     "data": {
      "text/plain": [
       "[array([495L, 78056L, u'Romeu', u'Oriol'], dtype=object),\n",
       " array([407L, 43191L, u'Lucas Leiva', 0], dtype=object),\n",
       " array([81L, 4990L, u'Diarra', u'Mahamadou'], dtype=object)]"
      ]
     },
     "execution_count": 37,
     "metadata": {},
     "output_type": "execute_result"
    }
   ],
   "source": [
    "Essien = play[112]\n",
    "getNeighbor(play, Essien ,3)"
   ]
  },
  {
   "cell_type": "code",
   "execution_count": 39,
   "metadata": {
    "collapsed": false
   },
   "outputs": [
    {
     "data": {
      "text/plain": [
       "[array([410L, 43670L, u'Mata', u'Juan'], dtype=object),\n",
       " array([333L, 36903L, u'Bale', u'Gareth'], dtype=object),\n",
       " array([387L, 41184L, u'Fellaini', u'Marouane'], dtype=object)]"
      ]
     },
     "execution_count": 39,
     "metadata": {},
     "output_type": "execute_result"
    }
   ],
   "source": [
    "Rooney = play[156]\n",
    "getNeighbor(play, Rooney ,3)"
   ]
  },
  {
   "cell_type": "code",
   "execution_count": 55,
   "metadata": {
    "collapsed": false
   },
   "outputs": [
    {
     "name": "stdout",
     "output_type": "stream",
     "text": [
      "([array([173L, 14664L, u'Yaya Tour\\xe9', 0], dtype=object)], [array([115L, 8758L, u'Arteta', u'Mikel'], dtype=object)])\n",
      "([array([0L, 3L, u'Giggs', u'Ryan'], dtype=object)], [array([184L, 15157L, u'Milner', u'James'], dtype=object)])\n",
      "([array([1L, 363L, u'Scholes', u'Paul'], dtype=object)], [array([317L, 28495L, u'Mikel', u'John Obi'], dtype=object)])\n",
      "([array([2L, 973L, u'Woodgate', u'Jonathan'], dtype=object)], [array([186L, 15201L, u'Barnett', u'Leon'], dtype=object)])\n",
      "([array([3L, 999L, u'Smith', u'Alan'], dtype=object)], [array([527L, 95703L, u'Lancaster', u'Cameron'], dtype=object)])\n",
      "([array([4L, 1059L, u'Gabbidon', u'Daniel'], dtype=object)], [array([277L, 20359L, u'Samba', u'Christopher'], dtype=object)])\n",
      "([array([5L, 1131L, u'Bramble', u'Titus'], dtype=object)], [array([300L, 27348L, u'Tamas', u'Gabriel'], dtype=object)])\n",
      "([array([6L, 1195L, u'Johnson', u'Andrew'], dtype=object)], [array([203L, 16005L, u'Best', u'Leon'], dtype=object)])\n",
      "([array([7L, 1212L, u'Wright-Phillips', u'Shaun'], dtype=object)], [array([385L, 40755L, u'Sturridge', u'Daniel'], dtype=object)])\n",
      "([array([8L, 1216L, u'Hill', u'Clint'], dtype=object)], [array([108L, 8371L, u'Givet', u'Ga\\xebl'], dtype=object)])\n",
      "([array([9L, 1231L, u'Bellamy', u'Craig'], dtype=object)], [array([124L, 10425L, u'Malouda', u'Florent'], dtype=object)])\n",
      "([array([10L, 1256L, u'Duff', u'Damien'], dtype=object)], [array([385L, 40755L, u'Sturridge', u'Daniel'], dtype=object)])\n",
      "([array([11L, 1274L, u'Dunn', u'David'], dtype=object)], [array([282L, 20481L, u'Ireland', u'Stephen'], dtype=object)])\n",
      "([array([12L, 1307L, u'Gardner', u'Ricardo'], dtype=object)], [array([470L, 59304L, u'Vuckic', u'Haris'], dtype=object)])\n",
      "([array([13L, 1344L, u'J\\xe4\\xe4skel\\xe4inen', u'Jussi'], dtype=object)], [array([414L, 45175L, u'Bogdan', u'Adam'], dtype=object)])\n",
      "([array([14L, 1409L, u'Wilbraham', u'Aaron'], dtype=object)], [array([260L, 19645L, u'Campbell', u'DJ'], dtype=object)])\n",
      "([array([15L, 1411L, u'Parker', u'Scott'], dtype=object)], [array([368L, 39895L, u'Mulumbu', u'Youssuf'], dtype=object)])\n",
      "([array([16L, 1420L, u'Derry', u'Shaun'], dtype=object)], [array([86L, 5589L, u'Whitehead', u'Dean'], dtype=object)])\n",
      "([array([17L, 1587L, u'Knight', u'Zat'], dtype=object)], [array([269L, 19958L, u'Wheater', u'David'], dtype=object)])\n",
      "([array([18L, 1615L, u'Blake', u'Robbie'], dtype=object)], [array([520L, 91126L, u'Keane', u'William'], dtype=object)])\n",
      "([array([19L, 1619L, u'Henry', u'Thierry'], dtype=object)], [array([172L, 14489L, u'Pugh', u'Danny'], dtype=object)])\n"
     ]
    }
   ],
   "source": [
    "firstTen = []\n",
    "\n",
    "firstTen.append(play[173])\n",
    "\n",
    "for i in range(0,20):\n",
    "    firstTen.append(play[i])\n",
    "    \n",
    "for items in firstTen:\n",
    "    print (items[1], getNeighbor(play, items ,1))"
   ]
  },
  {
   "cell_type": "code",
   "execution_count": 54,
   "metadata": {
    "collapsed": false
   },
   "outputs": [
    {
     "data": {
      "text/plain": [
       "[array([2L, 973L, u'Woodgate', u'Jonathan'], dtype=object)]"
      ]
     },
     "execution_count": 54,
     "metadata": {},
     "output_type": "execute_result"
    }
   ],
   "source": [
    "getNeighbor(play, play[186], 1)"
   ]
  }
 ],
 "metadata": {
  "kernelspec": {
   "display_name": "Python 2",
   "language": "python",
   "name": "python2"
  },
  "language_info": {
   "codemirror_mode": {
    "name": "ipython",
    "version": 2
   },
   "file_extension": ".py",
   "mimetype": "text/x-python",
   "name": "python",
   "nbconvert_exporter": "python",
   "pygments_lexer": "ipython2",
   "version": "2.7.11"
  }
 },
 "nbformat": 4,
 "nbformat_minor": 0
}
